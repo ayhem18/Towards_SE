{
 "cells": [
  {
   "attachments": {},
   "cell_type": "markdown",
   "metadata": {},
   "source": [
    "well not going to lie. HTML is literally a markup language, something not that different from say, **LATEX** (at least LATEX has math formulas).\n",
    "So many tools have been provided to optimize a developper's time when it comes to HTML. IN the front-end spectrum the most interesting part is probably JavaScript (So let's not spend too much on HTML and CSS). and yeah here is a very good and interactive [cheat sheet](https://htmlcheatsheet.com/)\n"
   ]
  }
 ],
 "metadata": {
  "kernelspec": {
   "display_name": "Python 3.9.12 64-bit",
   "language": "python",
   "name": "python3"
  },
  "language_info": {
   "name": "python",
   "version": "3.9.12"
  },
  "orig_nbformat": 4,
  "vscode": {
   "interpreter": {
    "hash": "9ab37ef18870d0bb1a2f81a13d4d9a2e82504b456000c305e31f7a4203380d71"
   }
  }
 },
 "nbformat": 4,
 "nbformat_minor": 2
}
