{
 "cells": [
  {
   "attachments": {},
   "cell_type": "markdown",
   "metadata": {},
   "source": [
    "# Introduction to backend Development\n",
    "This notebook was created to save and track the notes I take throughout the first course of the **Meta Backend Developer specialization** on Coursera."
   ]
  },
  {
   "attachments": {},
   "cell_type": "markdown",
   "metadata": {},
   "source": [
    "## what is a web server?\n",
    "A web server is usually a computer residing in a data center. The latter is a large building with a huge number of computer responding to the clients' requests. They are kept in very specific conditions such as:\n",
    "1. cooling 24/7\n",
    "2. continous electricity supplies\n",
    "3. never-stopping connection to the internet  \n",
    "\n",
    "The server's purpose determines the nature of the computers in the data center. A data center designed to store images and data in general would be equipped with large amount of physical storage. On the other hand, a data center designed for intense computation purposes is generally equipped with GPUS, more Random access memory.."
   ]
  },
  {
   "attachments": {},
   "cell_type": "markdown",
   "metadata": {},
   "source": [
    "* a Webpage is merely a document with binary data with binary data that representing text or even media files.\n",
    "* a Website is a collection of webpages with similar addresses.\n",
    "* computer connect to the internet or also known as the world wide web throughout purpose specific software referred to as an **internet browser**\n",
    "* clients (generally browsers) send a request to a a webserver (which can be found through the URL or uniform resource locator)\n",
    "* A url is usually unique as it starts with the protocol used (mainly https), the domain name (which is a unique identifier for a website) and then the path of the resource within the website.\n",
    "* Browsing the internet is made possible thanks to the request, response cycle. The browser connects to a webserver (again thanks to the url and HTTP(s)). The web server responds by sending the client the webpage requested. The browser rends the page and displays it in a user-friendly format.  "
   ]
  },
  {
   "attachments": {},
   "cell_type": "markdown",
   "metadata": {},
   "source": [
    "* hosting a website can be done different services is generally running a server on a certain machine.\n",
    "* hosting a website can be done through different options\n",
    "1. shared hosting: so the website is running on a server with other sites, therefore the performance is affected by all the servers \n",
    "2. virtual hosting: the webiste will be running on a virtual server (check the difference between virutal and physical servers [here](https://www.techtarget.com/searchitoperations/tip/Virtual-servers-vs-physical-servers-What-are-the-differences)). In other words, the site will be running on a virtual machine on a large super computer along with other computer programs. Nevertheless, the virtual machines will be associated with their own resources preventing the interdependence of the processes running on the same site.\n"
   ]
  },
  {
   "attachments": {},
   "cell_type": "markdown",
   "metadata": {},
   "source": [
    "## computers' communication: a high level view\n",
    "* Well, yes. computers communicate with one another. This is possible thanks to a number of protocols that set the theoretical grounds for computer networks. A computer, when joining a network (generally a local area network) can be uniquely identified (during that connection) with an address called ***IP address*** where **IP** stands for Internet protocol. \n",
    "* IP protocol can be thought of (on a high view) consisting of two parts:\n",
    "1. the header part consistent of the sender's and receiver's addresses and the payload with the content of the message.\n",
    "2. the content of the message is equipped with other data used by other protocols: mainly ***Transmission Control Protocol*** abbreviated as ***TCP***, or ***User Datagram Protocol*** known as ***UDP***. These two protocols try to tackle a number of issues that accompagny computer networking such as data loss, out of order arrival...\n",
    "   "
   ]
  },
  {
   "attachments": {},
   "cell_type": "markdown",
   "metadata": {},
   "source": [
    "## Internet Protocols\n",
    "### HTTP(s)\n",
    "HypteTextTransferProtocol is the one enabling the browser to communicate with web servers (mainly sending and receiving web resources such as files, HTML documents and other files). It consists on a high level of the following:\n",
    "1. request method, resource path if needed, protocol version\n",
    "2. headers such as browser's type, the language...  \n",
    "As of the request methods', there are $3$ main methods:\n",
    "1. GET: to retrieve data already existing on the webserver\n",
    "2. POST: to send data to the server (add it)\n",
    "3. PUT: update already existing data\n",
    "4. DELETE: self explanatory? isn't xD \n",
    "### DHCP\n",
    "We already mentioned that a computer connecting to a certain network is assigned an IP address. This is possible due to a **DHCP server** that sets assigns an IP address to a computer under a set of rules (the IP address should be a unique identifier for each computer in the network managed by the server, the IP address represents geographical location...)\n",
    "### DNS\n",
    "Domain Name System converts simple and easy-to-remember addresses (some_site.com) to an IP address depending on the IP address of the request's sender and other details.\n",
    "### SSH\n",
    "secure shell protol: This is an encryption protocol used to secure the data between receiver and sender as only the two ends are capable of understanding the actual content\n",
    "### FTP\n",
    "the latter stands for File Transfer Protocol which is used to transfer one file form a local computer to another through the internet. A more secured version **SFTP** using SSH adds encryption to **FTP**"
   ]
  },
  {
   "attachments": {},
   "cell_type": "markdown",
   "metadata": {},
   "source": [
    "## More about WEB DEV\n",
    "### FrameWorks VS Libraries\n",
    "a library is a piece of re-usable code (software) specifically created to achieve a very specific goal. Such tasks can be:\n",
    "* validating email addresses\n",
    "* extracting music notes as strings from a midi file: jfugue library in java\n",
    "* providing an interface to execute a set of popular algorithms (such NIC algorithms)   \n",
    "  \n",
    "a Framework is generally a collection of libraries determineing an entire process and the accompagning usual functionalities: a Web framework takes care of most of the repetitive tasks in Web development, saving time for the application-specific details. Nevertheless, the framework imposes a structure that must be followed."
   ]
  },
  {
   "attachments": {},
   "cell_type": "markdown",
   "metadata": {},
   "source": [
    "API stand for Application programming Interface which is a software component used to extend the functionality of another piece of software. Among the most common types of APIs, we can find:\n",
    "1. web API: DOM API, Geolocation API...\n",
    "2. REST API\n",
    "3. sensor-based API\n",
    "\n"
   ]
  },
  {
   "attachments": {},
   "cell_type": "markdown",
   "metadata": {},
   "source": [
    "some more useful resources:  \n",
    "1. [HTTP](https://developer.mozilla.org/en-US/docs/Web/HTTP/Overview)\n",
    "2. [basics of networks](https://do1.dr-chuck.net/net-intro/EN_us/net-intro.pdf) \n",
    "3. [Google Dev tools](https://developer.chrome.com/docs/devtools/overview/)"
   ]
  }
 ],
 "metadata": {
  "kernelspec": {
   "display_name": "Python 3",
   "language": "python",
   "name": "python3"
  },
  "language_info": {
   "name": "python",
   "version": "3.9.12"
  },
  "orig_nbformat": 4,
  "vscode": {
   "interpreter": {
    "hash": "9ab37ef18870d0bb1a2f81a13d4d9a2e82504b456000c305e31f7a4203380d71"
   }
  }
 },
 "nbformat": 4,
 "nbformat_minor": 2
}
