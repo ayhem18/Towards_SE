{
 "cells": [
  {
   "attachments": {},
   "cell_type": "markdown",
   "metadata": {},
   "source": [
    "# Introduction to backend Development\n",
    "This notebook was created to save and track the notes I take throughout the first course of the **Meta Backend Developer specialization** on Coursera."
   ]
  },
  {
   "cell_type": "code",
   "execution_count": null,
   "metadata": {},
   "outputs": [],
   "source": []
  }
 ],
 "metadata": {
  "kernelspec": {
   "display_name": "Python 3",
   "language": "python",
   "name": "python3"
  },
  "language_info": {
   "name": "python",
   "version": "3.9.12 (tags/v3.9.12:b28265d, Mar 23 2022, 23:52:46) [MSC v.1929 64 bit (AMD64)]"
  },
  "orig_nbformat": 4,
  "vscode": {
   "interpreter": {
    "hash": "9ab37ef18870d0bb1a2f81a13d4d9a2e82504b456000c305e31f7a4203380d71"
   }
  }
 },
 "nbformat": 4,
 "nbformat_minor": 2
}
