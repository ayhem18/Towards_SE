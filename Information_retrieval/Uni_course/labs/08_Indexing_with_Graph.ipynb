{
  "cells": [
    {
      "cell_type": "markdown",
      "id": "d2880c24-1e9a-41aa-890d-8d8dba599a01",
      "metadata": {
        "id": "d2880c24-1e9a-41aa-890d-8d8dba599a01"
      },
      "source": [
        "# 0. Installing embedding prerequisites\n",
        "\n",
        "If you use x86 machines or ARM (Mac M1/M2/...) chips with python 3.8, then you may benefit from `spacy` embedding."
      ]
    },
    {
      "cell_type": "code",
      "execution_count": 2,
      "id": "4415e371-9ef4-4ba9-a50a-846b72497c1a",
      "metadata": {
        "colab": {
          "base_uri": "https://localhost:8080/"
        },
        "id": "4415e371-9ef4-4ba9-a50a-846b72497c1a",
        "outputId": "6f22e2f2-4add-489c-d777-efa26167b68b"
      },
      "outputs": [
        {
          "name": "stdout",
          "output_type": "stream",
          "text": [
            "Looking in indexes: https://pypi.org/simple, https://us-python.pkg.dev/colab-wheels/public/simple/\n",
            "Requirement already satisfied: spacy in /usr/local/lib/python3.9/dist-packages (3.5.1)\n",
            "Requirement already satisfied: wasabi<1.2.0,>=0.9.1 in /usr/local/lib/python3.9/dist-packages (from spacy) (1.1.1)\n",
            "Requirement already satisfied: packaging>=20.0 in /usr/local/lib/python3.9/dist-packages (from spacy) (23.0)\n",
            "Requirement already satisfied: preshed<3.1.0,>=3.0.2 in /usr/local/lib/python3.9/dist-packages (from spacy) (3.0.8)\n",
            "Requirement already satisfied: murmurhash<1.1.0,>=0.28.0 in /usr/local/lib/python3.9/dist-packages (from spacy) (1.0.9)\n",
            "Requirement already satisfied: smart-open<7.0.0,>=5.2.1 in /usr/local/lib/python3.9/dist-packages (from spacy) (6.3.0)\n",
            "Requirement already satisfied: pydantic!=1.8,!=1.8.1,<1.11.0,>=1.7.4 in /usr/local/lib/python3.9/dist-packages (from spacy) (1.10.6)\n",
            "Requirement already satisfied: numpy>=1.15.0 in /usr/local/lib/python3.9/dist-packages (from spacy) (1.22.4)\n",
            "Requirement already satisfied: jinja2 in /usr/local/lib/python3.9/dist-packages (from spacy) (3.1.2)\n",
            "Requirement already satisfied: cymem<2.1.0,>=2.0.2 in /usr/local/lib/python3.9/dist-packages (from spacy) (2.0.7)\n",
            "Requirement already satisfied: typer<0.8.0,>=0.3.0 in /usr/local/lib/python3.9/dist-packages (from spacy) (0.7.0)\n",
            "Requirement already satisfied: srsly<3.0.0,>=2.4.3 in /usr/local/lib/python3.9/dist-packages (from spacy) (2.4.6)\n",
            "Requirement already satisfied: catalogue<2.1.0,>=2.0.6 in /usr/local/lib/python3.9/dist-packages (from spacy) (2.0.8)\n",
            "Requirement already satisfied: setuptools in /usr/local/lib/python3.9/dist-packages (from spacy) (63.4.3)\n",
            "Requirement already satisfied: spacy-legacy<3.1.0,>=3.0.11 in /usr/local/lib/python3.9/dist-packages (from spacy) (3.0.12)\n",
            "Requirement already satisfied: tqdm<5.0.0,>=4.38.0 in /usr/local/lib/python3.9/dist-packages (from spacy) (4.65.0)\n",
            "Requirement already satisfied: spacy-loggers<2.0.0,>=1.0.0 in /usr/local/lib/python3.9/dist-packages (from spacy) (1.0.4)\n",
            "Requirement already satisfied: requests<3.0.0,>=2.13.0 in /usr/local/lib/python3.9/dist-packages (from spacy) (2.27.1)\n",
            "Requirement already satisfied: thinc<8.2.0,>=8.1.8 in /usr/local/lib/python3.9/dist-packages (from spacy) (8.1.9)\n",
            "Requirement already satisfied: pathy>=0.10.0 in /usr/local/lib/python3.9/dist-packages (from spacy) (0.10.1)\n",
            "Requirement already satisfied: langcodes<4.0.0,>=3.2.0 in /usr/local/lib/python3.9/dist-packages (from spacy) (3.3.0)\n",
            "Requirement already satisfied: typing-extensions>=4.2.0 in /usr/local/lib/python3.9/dist-packages (from pydantic!=1.8,!=1.8.1,<1.11.0,>=1.7.4->spacy) (4.5.0)\n",
            "Requirement already satisfied: charset-normalizer~=2.0.0 in /usr/local/lib/python3.9/dist-packages (from requests<3.0.0,>=2.13.0->spacy) (2.0.12)\n",
            "Requirement already satisfied: urllib3<1.27,>=1.21.1 in /usr/local/lib/python3.9/dist-packages (from requests<3.0.0,>=2.13.0->spacy) (1.26.15)\n",
            "Requirement already satisfied: certifi>=2017.4.17 in /usr/local/lib/python3.9/dist-packages (from requests<3.0.0,>=2.13.0->spacy) (2022.12.7)\n",
            "Requirement already satisfied: idna<4,>=2.5 in /usr/local/lib/python3.9/dist-packages (from requests<3.0.0,>=2.13.0->spacy) (3.4)\n",
            "Requirement already satisfied: confection<1.0.0,>=0.0.1 in /usr/local/lib/python3.9/dist-packages (from thinc<8.2.0,>=8.1.8->spacy) (0.0.4)\n",
            "Requirement already satisfied: blis<0.8.0,>=0.7.8 in /usr/local/lib/python3.9/dist-packages (from thinc<8.2.0,>=8.1.8->spacy) (0.7.9)\n",
            "Requirement already satisfied: click<9.0.0,>=7.1.1 in /usr/local/lib/python3.9/dist-packages (from typer<0.8.0,>=0.3.0->spacy) (8.1.3)\n",
            "Requirement already satisfied: MarkupSafe>=2.0 in /usr/local/lib/python3.9/dist-packages (from jinja2->spacy) (2.1.2)\n",
            "/usr/local/lib/python3.9/dist-packages/torch/cuda/__init__.py:497: UserWarning: Can't initialize NVML\n",
            "  warnings.warn(\"Can't initialize NVML\")\n",
            "2023-03-21 13:31:45.719293: I tensorflow/core/platform/cpu_feature_guard.cc:193] This TensorFlow binary is optimized with oneAPI Deep Neural Network Library (oneDNN) to use the following CPU instructions in performance-critical operations:  AVX2 FMA\n",
            "To enable them in other operations, rebuild TensorFlow with the appropriate compiler flags.\n",
            "2023-03-21 13:31:47.456795: W tensorflow/compiler/xla/stream_executor/platform/default/dso_loader.cc:64] Could not load dynamic library 'libnvinfer.so.7'; dlerror: libnvinfer.so.7: cannot open shared object file: No such file or directory; LD_LIBRARY_PATH: /usr/local/nvidia/lib:/usr/local/nvidia/lib64\n",
            "2023-03-21 13:31:47.456926: W tensorflow/compiler/xla/stream_executor/platform/default/dso_loader.cc:64] Could not load dynamic library 'libnvinfer_plugin.so.7'; dlerror: libnvinfer_plugin.so.7: cannot open shared object file: No such file or directory; LD_LIBRARY_PATH: /usr/local/nvidia/lib:/usr/local/nvidia/lib64\n",
            "2023-03-21 13:31:47.456946: W tensorflow/compiler/tf2tensorrt/utils/py_utils.cc:38] TF-TRT Warning: Cannot dlopen some TensorRT libraries. If you would like to use Nvidia GPU with TensorRT, please make sure the missing libraries mentioned above are installed properly.\n",
            "2023-03-21 13:31:49.891291: E tensorflow/compiler/xla/stream_executor/cuda/cuda_driver.cc:267] failed call to cuInit: CUDA_ERROR_NO_DEVICE: no CUDA-capable device is detected\n",
            "Looking in indexes: https://pypi.org/simple, https://us-python.pkg.dev/colab-wheels/public/simple/\n",
            "Collecting en-core-web-md==3.5.0\n",
            "  Downloading https://github.com/explosion/spacy-models/releases/download/en_core_web_md-3.5.0/en_core_web_md-3.5.0-py3-none-any.whl (42.8 MB)\n",
            "\u001b[2K     \u001b[90m━━━━━━━━━━━━━━━━━━━━━━━━━━━━━━━━━━━━━━━━\u001b[0m \u001b[32m42.8/42.8 MB\u001b[0m \u001b[31m17.5 MB/s\u001b[0m eta \u001b[36m0:00:00\u001b[0m\n",
            "\u001b[?25hRequirement already satisfied: spacy<3.6.0,>=3.5.0 in /usr/local/lib/python3.9/dist-packages (from en-core-web-md==3.5.0) (3.5.1)\n",
            "Requirement already satisfied: langcodes<4.0.0,>=3.2.0 in /usr/local/lib/python3.9/dist-packages (from spacy<3.6.0,>=3.5.0->en-core-web-md==3.5.0) (3.3.0)\n",
            "Requirement already satisfied: thinc<8.2.0,>=8.1.8 in /usr/local/lib/python3.9/dist-packages (from spacy<3.6.0,>=3.5.0->en-core-web-md==3.5.0) (8.1.9)\n",
            "Requirement already satisfied: numpy>=1.15.0 in /usr/local/lib/python3.9/dist-packages (from spacy<3.6.0,>=3.5.0->en-core-web-md==3.5.0) (1.22.4)\n",
            "Requirement already satisfied: jinja2 in /usr/local/lib/python3.9/dist-packages (from spacy<3.6.0,>=3.5.0->en-core-web-md==3.5.0) (3.1.2)\n",
            "Requirement already satisfied: wasabi<1.2.0,>=0.9.1 in /usr/local/lib/python3.9/dist-packages (from spacy<3.6.0,>=3.5.0->en-core-web-md==3.5.0) (1.1.1)\n",
            "Requirement already satisfied: smart-open<7.0.0,>=5.2.1 in /usr/local/lib/python3.9/dist-packages (from spacy<3.6.0,>=3.5.0->en-core-web-md==3.5.0) (6.3.0)\n",
            "Requirement already satisfied: pydantic!=1.8,!=1.8.1,<1.11.0,>=1.7.4 in /usr/local/lib/python3.9/dist-packages (from spacy<3.6.0,>=3.5.0->en-core-web-md==3.5.0) (1.10.6)\n",
            "Requirement already satisfied: typer<0.8.0,>=0.3.0 in /usr/local/lib/python3.9/dist-packages (from spacy<3.6.0,>=3.5.0->en-core-web-md==3.5.0) (0.7.0)\n",
            "Requirement already satisfied: spacy-legacy<3.1.0,>=3.0.11 in /usr/local/lib/python3.9/dist-packages (from spacy<3.6.0,>=3.5.0->en-core-web-md==3.5.0) (3.0.12)\n",
            "Requirement already satisfied: requests<3.0.0,>=2.13.0 in /usr/local/lib/python3.9/dist-packages (from spacy<3.6.0,>=3.5.0->en-core-web-md==3.5.0) (2.27.1)\n",
            "Requirement already satisfied: tqdm<5.0.0,>=4.38.0 in /usr/local/lib/python3.9/dist-packages (from spacy<3.6.0,>=3.5.0->en-core-web-md==3.5.0) (4.65.0)\n",
            "Requirement already satisfied: murmurhash<1.1.0,>=0.28.0 in /usr/local/lib/python3.9/dist-packages (from spacy<3.6.0,>=3.5.0->en-core-web-md==3.5.0) (1.0.9)\n",
            "Requirement already satisfied: preshed<3.1.0,>=3.0.2 in /usr/local/lib/python3.9/dist-packages (from spacy<3.6.0,>=3.5.0->en-core-web-md==3.5.0) (3.0.8)\n",
            "Requirement already satisfied: pathy>=0.10.0 in /usr/local/lib/python3.9/dist-packages (from spacy<3.6.0,>=3.5.0->en-core-web-md==3.5.0) (0.10.1)\n",
            "Requirement already satisfied: packaging>=20.0 in /usr/local/lib/python3.9/dist-packages (from spacy<3.6.0,>=3.5.0->en-core-web-md==3.5.0) (23.0)\n",
            "Requirement already satisfied: cymem<2.1.0,>=2.0.2 in /usr/local/lib/python3.9/dist-packages (from spacy<3.6.0,>=3.5.0->en-core-web-md==3.5.0) (2.0.7)\n",
            "Requirement already satisfied: srsly<3.0.0,>=2.4.3 in /usr/local/lib/python3.9/dist-packages (from spacy<3.6.0,>=3.5.0->en-core-web-md==3.5.0) (2.4.6)\n",
            "Requirement already satisfied: catalogue<2.1.0,>=2.0.6 in /usr/local/lib/python3.9/dist-packages (from spacy<3.6.0,>=3.5.0->en-core-web-md==3.5.0) (2.0.8)\n",
            "Requirement already satisfied: spacy-loggers<2.0.0,>=1.0.0 in /usr/local/lib/python3.9/dist-packages (from spacy<3.6.0,>=3.5.0->en-core-web-md==3.5.0) (1.0.4)\n",
            "Requirement already satisfied: setuptools in /usr/local/lib/python3.9/dist-packages (from spacy<3.6.0,>=3.5.0->en-core-web-md==3.5.0) (63.4.3)\n",
            "Requirement already satisfied: typing-extensions>=4.2.0 in /usr/local/lib/python3.9/dist-packages (from pydantic!=1.8,!=1.8.1,<1.11.0,>=1.7.4->spacy<3.6.0,>=3.5.0->en-core-web-md==3.5.0) (4.5.0)\n",
            "Requirement already satisfied: idna<4,>=2.5 in /usr/local/lib/python3.9/dist-packages (from requests<3.0.0,>=2.13.0->spacy<3.6.0,>=3.5.0->en-core-web-md==3.5.0) (3.4)\n",
            "Requirement already satisfied: charset-normalizer~=2.0.0 in /usr/local/lib/python3.9/dist-packages (from requests<3.0.0,>=2.13.0->spacy<3.6.0,>=3.5.0->en-core-web-md==3.5.0) (2.0.12)\n",
            "Requirement already satisfied: urllib3<1.27,>=1.21.1 in /usr/local/lib/python3.9/dist-packages (from requests<3.0.0,>=2.13.0->spacy<3.6.0,>=3.5.0->en-core-web-md==3.5.0) (1.26.15)\n",
            "Requirement already satisfied: certifi>=2017.4.17 in /usr/local/lib/python3.9/dist-packages (from requests<3.0.0,>=2.13.0->spacy<3.6.0,>=3.5.0->en-core-web-md==3.5.0) (2022.12.7)\n",
            "Requirement already satisfied: blis<0.8.0,>=0.7.8 in /usr/local/lib/python3.9/dist-packages (from thinc<8.2.0,>=8.1.8->spacy<3.6.0,>=3.5.0->en-core-web-md==3.5.0) (0.7.9)\n",
            "Requirement already satisfied: confection<1.0.0,>=0.0.1 in /usr/local/lib/python3.9/dist-packages (from thinc<8.2.0,>=8.1.8->spacy<3.6.0,>=3.5.0->en-core-web-md==3.5.0) (0.0.4)\n",
            "Requirement already satisfied: click<9.0.0,>=7.1.1 in /usr/local/lib/python3.9/dist-packages (from typer<0.8.0,>=0.3.0->spacy<3.6.0,>=3.5.0->en-core-web-md==3.5.0) (8.1.3)\n",
            "Requirement already satisfied: MarkupSafe>=2.0 in /usr/local/lib/python3.9/dist-packages (from jinja2->spacy<3.6.0,>=3.5.0->en-core-web-md==3.5.0) (2.1.2)\n",
            "Installing collected packages: en-core-web-md\n",
            "Successfully installed en-core-web-md-3.5.0\n",
            "\u001b[38;5;2m✔ Download and installation successful\u001b[0m\n",
            "You can now load the package via spacy.load('en_core_web_md')\n"
          ]
        }
      ],
      "source": [
        "!pip install --upgrade spacy\n",
        "!python -m spacy download en_core_web_md"
      ]
    },
    {
      "cell_type": "markdown",
      "id": "ca0bf51b-76d6-49aa-88da-b1de011c22f8",
      "metadata": {
        "id": "ca0bf51b-76d6-49aa-88da-b1de011c22f8"
      },
      "source": [
        "Check that is works:"
      ]
    },
    {
      "cell_type": "code",
      "execution_count": 3,
      "id": "9bf549a8-4e7e-4d94-b971-aff4b1121255",
      "metadata": {
        "colab": {
          "base_uri": "https://localhost:8080/"
        },
        "id": "9bf549a8-4e7e-4d94-b971-aff4b1121255",
        "outputId": "ecef9a5e-7a3a-414b-f8a9-5ce132b68360"
      },
      "outputs": [
        {
          "name": "stderr",
          "output_type": "stream",
          "text": [
            "/usr/local/lib/python3.9/dist-packages/torch/cuda/__init__.py:497: UserWarning: Can't initialize NVML\n",
            "  warnings.warn(\"Can't initialize NVML\")\n"
          ]
        }
      ],
      "source": [
        "import spacy\n",
        "nlp = spacy.load('en_core_web_md')\n",
        "\n",
        "def embed(text: str):\n",
        "    return nlp(text['Question']).vector"
      ]
    },
    {
      "cell_type": "code",
      "execution_count": 4,
      "id": "83fc58e6-cbc5-4694-afc1-0318b7c5a7a3",
      "metadata": {
        "colab": {
          "base_uri": "https://localhost:8080/"
        },
        "id": "83fc58e6-cbc5-4694-afc1-0318b7c5a7a3",
        "outputId": "7dbc9f80-d5b1-4c13-ea51-a8b52c55054c"
      },
      "outputs": [
        {
          "name": "stdout",
          "output_type": "stream",
          "text": [
            "Looking in indexes: https://pypi.org/simple, https://us-python.pkg.dev/colab-wheels/public/simple/\n",
            "Collecting fasttext\n",
            "  Downloading fasttext-0.9.2.tar.gz (68 kB)\n",
            "\u001b[2K     \u001b[90m━━━━━━━━━━━━━━━━━━━━━━━━━━━━━━━━━━━━━━━━\u001b[0m \u001b[32m68.8/68.8 KB\u001b[0m \u001b[31m4.9 MB/s\u001b[0m eta \u001b[36m0:00:00\u001b[0m\n",
            "\u001b[?25h  Preparing metadata (setup.py) ... \u001b[?25l\u001b[?25hdone\n",
            "Collecting pybind11>=2.2\n",
            "  Using cached pybind11-2.10.4-py3-none-any.whl (222 kB)\n",
            "Requirement already satisfied: setuptools>=0.7.0 in /usr/local/lib/python3.9/dist-packages (from fasttext) (63.4.3)\n",
            "Requirement already satisfied: numpy in /usr/local/lib/python3.9/dist-packages (from fasttext) (1.22.4)\n",
            "Building wheels for collected packages: fasttext\n",
            "  Building wheel for fasttext (setup.py) ... \u001b[?25l\u001b[?25hdone\n",
            "  Created wheel for fasttext: filename=fasttext-0.9.2-cp39-cp39-linux_x86_64.whl size=4395670 sha256=be5a997ee392de14312841ff6b5591ce985ba4e96a80e7a4f21caeb664a7aca5\n",
            "  Stored in directory: /root/.cache/pip/wheels/64/57/bc/1741406019061d5664914b070bd3e71f6244648732bc96109e\n",
            "Successfully built fasttext\n",
            "Installing collected packages: pybind11, fasttext\n",
            "Successfully installed fasttext-0.9.2 pybind11-2.10.4\n"
          ]
        }
      ],
      "source": [
        "!pip install fasttext"
      ]
    },
    {
      "cell_type": "markdown",
      "id": "3577b24d-f05d-4feb-bcc0-a812ac648c3c",
      "metadata": {
        "id": "3577b24d-f05d-4feb-bcc0-a812ac648c3c"
      },
      "source": [
        "# 00. Index data structure\n",
        "\n",
        "And now let us install the NMSlib. To avoid M1 crashes please do not use prebuilt wheels."
      ]
    },
    {
      "cell_type": "code",
      "execution_count": 5,
      "id": "2744c9bc-82ae-4fea-bbe9-c51a0ba8e0e3",
      "metadata": {
        "colab": {
          "base_uri": "https://localhost:8080/"
        },
        "id": "2744c9bc-82ae-4fea-bbe9-c51a0ba8e0e3",
        "outputId": "f353fe4d-e264-4221-db86-744dd9c614e1"
      },
      "outputs": [
        {
          "name": "stdout",
          "output_type": "stream",
          "text": [
            "\u001b[33mWARNING: Skipping nmslib as it is not installed.\u001b[0m\u001b[33m\n",
            "\u001b[0mLooking in indexes: https://pypi.org/simple, https://us-python.pkg.dev/colab-wheels/public/simple/\n",
            "Collecting nmslib\n",
            "  Downloading nmslib-2.1.1.tar.gz (188 kB)\n",
            "\u001b[2K     \u001b[90m━━━━━━━━━━━━━━━━━━━━━━━━━━━━━━━━━━━━━━━\u001b[0m \u001b[32m188.7/188.7 KB\u001b[0m \u001b[31m8.7 MB/s\u001b[0m eta \u001b[36m0:00:00\u001b[0m\n",
            "\u001b[?25h  Preparing metadata (setup.py) ... \u001b[?25l\u001b[?25hdone\n",
            "Collecting pybind11<2.6.2\n",
            "  Downloading pybind11-2.6.1.tar.gz (171 kB)\n",
            "\u001b[2K     \u001b[90m━━━━━━━━━━━━━━━━━━━━━━━━━━━━━━━━━━━━━━\u001b[0m \u001b[32m171.6/171.6 KB\u001b[0m \u001b[31m24.0 MB/s\u001b[0m eta \u001b[36m0:00:00\u001b[0m\n",
            "\u001b[?25h  Installing build dependencies ... \u001b[?25l\u001b[?25hdone\n",
            "  Getting requirements to build wheel ... \u001b[?25l\u001b[?25hdone\n",
            "  Preparing metadata (pyproject.toml) ... \u001b[?25l\u001b[?25hdone\n",
            "Requirement already satisfied: psutil in /usr/local/lib/python3.9/dist-packages (from nmslib) (5.9.4)\n",
            "Requirement already satisfied: numpy>=1.10.0 in /usr/local/lib/python3.9/dist-packages (from nmslib) (1.22.4)\n",
            "Skipping wheel build for nmslib, due to binaries being disabled for it.\n",
            "Building wheels for collected packages: pybind11\n",
            "  Building wheel for pybind11 (pyproject.toml) ... \u001b[?25l\u001b[?25hdone\n",
            "  Created wheel for pybind11: filename=pybind11-2.6.1-py2.py3-none-any.whl size=188542 sha256=7a4dc9134e8a0cfcf49c629643240239f536111bfd034a7162d4a3edbd0b4594\n",
            "  Stored in directory: /root/.cache/pip/wheels/ca/e8/9f/814ed6a46c77b66f99d4612e5f48e6b0b430ca1335a64cfc61\n",
            "Successfully built pybind11\n",
            "Installing collected packages: pybind11, nmslib\n",
            "  Attempting uninstall: pybind11\n",
            "    Found existing installation: pybind11 2.10.4\n",
            "    Uninstalling pybind11-2.10.4:\n",
            "      Successfully uninstalled pybind11-2.10.4\n",
            "  Running setup.py install for nmslib ... \u001b[?25l\u001b[?25hdone\n",
            "Successfully installed nmslib-2.1.1 pybind11-2.10.4\n"
          ]
        }
      ],
      "source": [
        "!pip uninstall nmslib -y\n",
        "!pip install nmslib --no-binary :all:"
      ]
    },
    {
      "cell_type": "markdown",
      "id": "180345ce-63ea-4b99-a2b5-2afbda04c9da",
      "metadata": {
        "id": "180345ce-63ea-4b99-a2b5-2afbda04c9da"
      },
      "source": [
        "Check it works:"
      ]
    },
    {
      "cell_type": "code",
      "execution_count": 6,
      "id": "d4fbe5c0-9aed-425f-85c0-ba2baf85e40f",
      "metadata": {
        "id": "d4fbe5c0-9aed-425f-85c0-ba2baf85e40f"
      },
      "outputs": [],
      "source": [
        "import nmslib"
      ]
    },
    {
      "cell_type": "markdown",
      "id": "0XyBWZn4qwO1",
      "metadata": {
        "id": "0XyBWZn4qwO1"
      },
      "source": [
        "# Tensorflow & Embed"
      ]
    },
    {
      "cell_type": "code",
      "execution_count": 7,
      "id": "m1VbWgb3qzZX",
      "metadata": {
        "id": "m1VbWgb3qzZX"
      },
      "outputs": [],
      "source": [
        "import tensorflow_hub as hub\n",
        "embed_hub = hub.load(\"https://tfhub.dev/google/universal-sentence-encoder-large/5\")\n",
        "\n",
        "def embed(text: str):\n",
        "    # return ft.get_sentence_vector(text)\n",
        "    return embed_hub([text])[0].numpy()"
      ]
    },
    {
      "cell_type": "markdown",
      "id": "d7419c36-9983-4514-aa6a-6951333e6a68",
      "metadata": {
        "id": "d7419c36-9983-4514-aa6a-6951333e6a68"
      },
      "source": [
        "# Generate some vectors \n",
        "\n",
        "Download [Jeopardy dataset](https://github.com/hsu-ai-course/hsu.ai/blob/master/code/datasets/nlp/JEOPARDY_CSV.zip). Unpack it! Read it as CSV. Embed `Question`s with spacy model."
      ]
    },
    {
      "cell_type": "code",
      "execution_count": 8,
      "id": "ckgZitu-iCjp",
      "metadata": {
        "colab": {
          "base_uri": "https://localhost:8080/"
        },
        "id": "ckgZitu-iCjp",
        "outputId": "f746d002-bad2-446f-8984-778d8bb230a9"
      },
      "outputs": [
        {
          "name": "stdout",
          "output_type": "stream",
          "text": [
            "Downloading started\n",
            "Downloading Completed\n"
          ]
        }
      ],
      "source": [
        "# for downloading jeoprady dataset\n",
        "import requests\n",
        "print('Downloading started')\n",
        "url = 'https://github.com/hsu-ai-course/hsu.ai/blob/master/code/datasets/nlp/JEOPARDY_CSV.zip?raw=true'\n",
        "req = requests.get(url)\n",
        "filename = \"JEOPARDY.zip\"\n",
        "# donwloading the file to the local file system\n",
        "with open(filename,'wb') as output_file:\n",
        "    output_file.write(req.content)\n",
        "print('Downloading Completed')"
      ]
    },
    {
      "cell_type": "code",
      "execution_count": 9,
      "id": "41ea286a-f4f7-496d-b187-e240228f8442",
      "metadata": {
        "id": "41ea286a-f4f7-496d-b187-e240228f8442"
      },
      "outputs": [],
      "source": [
        "MAX = 30000\n",
        "DATASET_FILENAME = 'JEOPARDY_CSV.csv'"
      ]
    },
    {
      "cell_type": "code",
      "execution_count": 10,
      "id": "dQMnHYuiiKTa",
      "metadata": {
        "id": "dQMnHYuiiKTa"
      },
      "outputs": [],
      "source": [
        "# For unzipping\n",
        "import zipfile\n",
        "\n",
        "# extract the zip file\n",
        "with zipfile.ZipFile(\"/content/JEOPARDY.zip\", 'r') as zip_ref:\n",
        "    zip_ref.extractall(\"/content/\")"
      ]
    },
    {
      "cell_type": "code",
      "execution_count": 11,
      "id": "1e3a7b6c-9b66-403a-9d87-73dc20d0a3c8",
      "metadata": {
        "colab": {
          "base_uri": "https://localhost:8080/"
        },
        "id": "1e3a7b6c-9b66-403a-9d87-73dc20d0a3c8",
        "outputId": "f727f7f5-ea74-49ec-f702-1a2369712d00"
      },
      "outputs": [
        {
          "name": "stdout",
          "output_type": "stream",
          "text": [
            "Strings: 30000\n"
          ]
        }
      ],
      "source": [
        "import csv\n",
        "import numpy as np\n",
        "\n",
        "strings = []\n",
        "\n",
        "with open(DATASET_FILENAME, 'r', encoding='utf8') as f:\n",
        "    dr = csv.DictReader(f, delimiter=',')\n",
        "    for i, line in enumerate(dr):\n",
        "        if i == MAX: break\n",
        "        strings.append(line)\n",
        "        \n",
        "print(\"Strings:\", len(strings))"
      ]
    },
    {
      "cell_type": "code",
      "execution_count": 12,
      "id": "b50fe69b-0d4b-4aff-a7fb-27d8361c746f",
      "metadata": {
        "colab": {
          "base_uri": "https://localhost:8080/"
        },
        "id": "b50fe69b-0d4b-4aff-a7fb-27d8361c746f",
        "outputId": "84812d8f-6a2d-4810-cf6f-92d6644dea5e"
      },
      "outputs": [
        {
          "name": "stdout",
          "output_type": "stream",
          "text": [
            "Vectors are not precomputed. Computing ..."
          ]
        },
        {
          "name": "stderr",
          "output_type": "stream",
          "text": [
            "100%|██████████| 30000/30000 [17:25<00:00, 28.70it/s]\n"
          ]
        },
        {
          "name": "stdout",
          "output_type": "stream",
          "text": [
            " dumping ... done\n"
          ]
        }
      ],
      "source": [
        "import tqdm\n",
        "import pickle\n",
        "import os\n",
        "\n",
        "vectors = np.zeros((MAX, 512))\n",
        "\n",
        "if os.path.exists('vectors'):\n",
        "    print(\"Vectors are precomputed! Loading ...\", end='')\n",
        "    with open('vectors', 'rb') as f:\n",
        "        vectors = pickle.load(f)\n",
        "    print(\" done\")\n",
        "else:\n",
        "    print(\"Vectors are not precomputed. Computing ...\", end='')\n",
        "    for i, line in enumerate(tqdm.tqdm(strings)):\n",
        "        vectors[i, :] = embed(line['Question'])\n",
        "    print(\" dumping ...\", end='')\n",
        "    with open('vectors', 'wb') as f:\n",
        "        pickle.dump(vectors, f)\n",
        "    print(\" done\")"
      ]
    },
    {
      "cell_type": "code",
      "execution_count": 13,
      "id": "0870208a-eb84-4f68-94e3-a58850024aa4",
      "metadata": {
        "colab": {
          "base_uri": "https://localhost:8080/"
        },
        "id": "0870208a-eb84-4f68-94e3-a58850024aa4",
        "outputId": "82753a3d-842f-4596-c6aa-b1b9d303d812"
      },
      "outputs": [
        {
          "name": "stdout",
          "output_type": "stream",
          "text": [
            "Vectors: (30000, 512) | strings: 30000\n"
          ]
        }
      ],
      "source": [
        "print(\"Vectors:\", vectors.shape, \"| strings:\", len(strings))"
      ]
    },
    {
      "cell_type": "markdown",
      "id": "ce974395-9a50-44b1-bcdb-e2b752cf5ece",
      "metadata": {
        "id": "ce974395-9a50-44b1-bcdb-e2b752cf5ece"
      },
      "source": [
        "# 1. Index construction\n",
        "\n",
        "- index methods: `'nsw'`, `'hnsw'` and [others](https://github.com/nmslib/nmslib/blob/master/manual/methods.md). We will use `hnsw` and `brute_force`.\n",
        "- space: `'cosinesimil'` and [many others](https://github.com/nmslib/nmslib/blob/master/manual/spaces.md). We will use `cosinesimil`.\n",
        "- `post` parameters of `createIndex()`: optimization after HNSW built. [Read more here](https://github.com/nmslib/nmslib/blob/master/manual/methods.md#graph-based-search-methods-sw-graph-and-hnsw).\n",
        "- `ef`: the size of the dynamic list for the nearest neighbors (used during the search). `efConstruction` improves the quality of a constructed graph and leads to higher accuracy of search, also leads to longer indexing times. Typically `ef=100..2000`. Similarly, increasing the value of `efSearch` improves recall at the expense of longer retrieval time.\n",
        "- `M`: defines the maximum number of neighbors. The reasonable range of values for these parameters is `5..100`.\n",
        "\n",
        "Here implement `find_for_vector` and `find_for_batch` methods according to the quick start documentation."
      ]
    },
    {
      "cell_type": "code",
      "execution_count": 14,
      "id": "b691a81f-4fc3-4d2e-b600-e198a460c560",
      "metadata": {
        "id": "b691a81f-4fc3-4d2e-b600-e198a460c560"
      },
      "outputs": [],
      "source": [
        "import nmslib\n",
        "\n",
        "def get_index(\n",
        "        vectors, \n",
        "        method='hnsw', \n",
        "        space='cosinesimil', \n",
        "        postprocessing_optimization_level=2,\n",
        "        efConstruction=100,\n",
        "        efSearch=100,\n",
        "        M=16,\n",
        "        cutoff=None\n",
        "):\n",
        "    import gc\n",
        "    gc.collect()\n",
        "    \n",
        "    if cutoff is not None:\n",
        "        vectors = vectors[:cutoff]\n",
        "    \n",
        "    index = nmslib.init(method=method, space=space, space_params = {\n",
        "        \"efConstruction\": efConstruction,\n",
        "        \"efSearch\": efSearch,\n",
        "        \"M\": M,\n",
        "    })\n",
        "    index.addDataPointBatch(vectors)\n",
        "    if method == 'hnsw':\n",
        "        index.createIndex({'post': postprocessing_optimization_level}, print_progress=True)\n",
        "    else:\n",
        "        index.createIndex(print_progress=True)\n",
        "    return index\n",
        "\n",
        "\n",
        "def find_for_vector(index, vector, nn) -> list:\n",
        "    ids, _ = index.knnQuery(vector, k=nn)\n",
        "    return list(ids)\n",
        "\n",
        "\n",
        "def find_for_batch(index, batch, nn) -> list:\n",
        "    result = index.knnQueryBatch(batch, k=nn, num_threads=8)\n",
        "    return [list(k[0]) for k in result]"
      ]
    },
    {
      "cell_type": "markdown",
      "id": "f30493bb-3a81-4d39-ac2b-463631bc3f0a",
      "metadata": {
        "id": "f30493bb-3a81-4d39-ac2b-463631bc3f0a"
      },
      "source": [
        "## Construct buckets with ground truth"
      ]
    },
    {
      "cell_type": "code",
      "execution_count": 15,
      "id": "7eb65d8a-0079-42ee-a771-24651e75e682",
      "metadata": {
        "colab": {
          "base_uri": "https://localhost:8080/"
        },
        "id": "7eb65d8a-0079-42ee-a771-24651e75e682",
        "outputId": "eedcfc68-8e53-43ca-e34f-941f2bab0e6d"
      },
      "outputs": [
        {
          "name": "stdout",
          "output_type": "stream",
          "text": [
            "2000\n"
          ]
        }
      ],
      "source": [
        "bucket = ['opera', 'math', 'geography', 'films', 'cats', 'zebra', \n",
        "          'cooking', 'armory', 'war', 'history', 'money', 'books', \n",
        "          'quantum physics', 'snakes', 'sea', 'plants', 'chemistry', \n",
        "          'stars', 'science fiction', 'languages', 'clothes']\n",
        "bucket_vectors = [embed(t) for t in bucket]\n",
        "bucket += [s['Question'] for s in strings[150:14000:7]]\n",
        "bucket_vectors += [v for v in vectors[150:14000:7]]\n",
        "print(len(bucket))"
      ]
    },
    {
      "cell_type": "markdown",
      "id": "933cb6f1-b9fe-47de-8f1b-fa703b8dc950",
      "metadata": {
        "id": "933cb6f1-b9fe-47de-8f1b-fa703b8dc950"
      },
      "source": [
        "## Let's collect ACCURATE nearest neighbours with flat index (no index)"
      ]
    },
    {
      "cell_type": "code",
      "execution_count": 16,
      "id": "56a4c7a0-3695-45c1-adc5-43b7d4224dfc",
      "metadata": {
        "id": "56a4c7a0-3695-45c1-adc5-43b7d4224dfc"
      },
      "outputs": [],
      "source": [
        "# dataset sizes\n",
        "DS = [2000, 5000, 10000, 20000, 30000]\n",
        "# M values\n",
        "MS = [8, 16, 32, 64]\n",
        "# ef values\n",
        "EFS = [100, 200, 400]"
      ]
    },
    {
      "cell_type": "code",
      "execution_count": 17,
      "id": "cd5c5f66-9e47-4cfd-ba4b-7a60aa19c1d1",
      "metadata": {
        "id": "cd5c5f66-9e47-4cfd-ba4b-7a60aa19c1d1"
      },
      "outputs": [],
      "source": [
        "flats = {}\n",
        "for cutoff in DS:\n",
        "    flats[cutoff] = get_index(vectors, method='brute_force', cutoff=cutoff)"
      ]
    },
    {
      "cell_type": "code",
      "execution_count": 18,
      "id": "421b3e24-4cc8-4bbb-b244-ffc8eb5ab918",
      "metadata": {
        "id": "421b3e24-4cc8-4bbb-b244-ffc8eb5ab918"
      },
      "outputs": [],
      "source": [
        "ground_truth = {}\n",
        "for cutoff in DS:\n",
        "    bucket_results = find_for_batch(flats[cutoff], bucket_vectors, nn=1000)\n",
        "    ground_truth[cutoff] = bucket_results"
      ]
    },
    {
      "cell_type": "markdown",
      "id": "6617f340-120f-42fa-a9ee-d4d45ef95877",
      "metadata": {
        "id": "6617f340-120f-42fa-a9ee-d4d45ef95877"
      },
      "source": [
        "## Compute recall @N\n",
        "\n",
        "Implement recall@N computation. Discuss the values."
      ]
    },
    {
      "cell_type": "code",
      "execution_count": 19,
      "id": "d288b9c5-cf83-4fbf-bb10-ebe75a05ddb1",
      "metadata": {
        "id": "d288b9c5-cf83-4fbf-bb10-ebe75a05ddb1"
      },
      "outputs": [],
      "source": [
        "def recall(sorted_result : list, sorted_ground_truth: list, N: int) -> float:\n",
        "    # predictions\n",
        "    a = sorted_result[:N]\n",
        "    # the groun truth\n",
        "    b = sorted_ground_truth[:N]\n",
        "    return len(set(a).intersection(b))\n"
      ]
    },
    {
      "cell_type": "code",
      "execution_count": 20,
      "id": "a51e4a0b-df8b-45ca-8c28-62b146ae5259",
      "metadata": {
        "colab": {
          "base_uri": "https://localhost:8080/"
        },
        "id": "a51e4a0b-df8b-45ca-8c28-62b146ae5259",
        "outputId": "e175470c-9bb8-4d66-b5fc-c1d72cbe6a14"
      },
      "outputs": [
        {
          "name": "stdout",
          "output_type": "stream",
          "text": [
            "700 500 350 0\n",
            "700 500 350 0\n",
            "700 500 350 0\n",
            "700 500 350 0\n",
            "700 500 350 0\n"
          ]
        }
      ],
      "source": [
        "for b in ground_truth[10000][:5]:\n",
        "    print(recall(b, b, 700), recall(b[:500], b, 700), recall(b[:350], b, 700), recall([], b, 700))"
      ]
    },
    {
      "cell_type": "markdown",
      "id": "a7bbb20d-aa10-4f2d-b634-39281c1f80e5",
      "metadata": {
        "id": "a7bbb20d-aa10-4f2d-b634-39281c1f80e5"
      },
      "source": [
        "Discuss the values.\n",
        "- Why do you see these numbers? \n",
        "- Why are they equal?"
      ]
    },
    {
      "cell_type": "markdown",
      "id": "77062295-c642-43f3-b1fe-f71131f6744e",
      "metadata": {
        "id": "77062295-c642-43f3-b1fe-f71131f6744e"
      },
      "source": [
        "# 2. Test HNSW\n",
        "\n",
        "Create an index with default settings and assess its recall numbers."
      ]
    },
    {
      "cell_type": "code",
      "execution_count": 21,
      "id": "cccdc36f-d901-45cc-9e42-a88ea7b55971",
      "metadata": {
        "id": "cccdc36f-d901-45cc-9e42-a88ea7b55971"
      },
      "outputs": [],
      "source": [
        "hnsw = get_index(vectors, method='hnsw')"
      ]
    },
    {
      "cell_type": "code",
      "execution_count": 22,
      "id": "f9472734-81b9-47f4-aff7-146ddabbb552",
      "metadata": {
        "colab": {
          "base_uri": "https://localhost:8080/"
        },
        "id": "f9472734-81b9-47f4-aff7-146ddabbb552",
        "outputId": "3e18cd2e-9e83-4111-8612-702e84ca25f2"
      },
      "outputs": [
        {
          "name": "stdout",
          "output_type": "stream",
          "text": [
            "recall@100 = 100\n",
            "recall@1000 = 554\n",
            "recall@2000 = 554\n"
          ]
        }
      ],
      "source": [
        "vector_id = 5\n",
        "vector = bucket_vectors[vector_id]\n",
        "reference = ground_truth[DS[-1]][vector_id]\n",
        "\n",
        "for n in [100, 1000, 2000]:\n",
        "    ids = find_for_vector(hnsw, bucket_vectors[5], nn=n)\n",
        "    print(f\"recall@{n} =\", recall(ids, ground_truth[DS[-1]][5], n))"
      ]
    },
    {
      "cell_type": "markdown",
      "id": "cbca69da-0109-46f6-b212-522ff448188e",
      "metadata": {
        "id": "cbca69da-0109-46f6-b212-522ff448188e"
      },
      "source": [
        "Discuss: why recall drops with the growth of N?"
      ]
    },
    {
      "cell_type": "markdown",
      "id": "6911e1fd-807a-4ecb-9eac-57d2652f51df",
      "metadata": {
        "id": "6911e1fd-807a-4ecb-9eac-57d2652f51df"
      },
      "source": [
        "# 3. Assessment\n",
        "\n",
        "Let's vary parameters of index to see how it influences the following properties:\n",
        "- construction time.\n",
        "- search time (for a bucket in total).\n",
        "- `recall@100`, `recall@1000`, and `recall@100` for 1000 results.\n",
        "\n",
        "What do we vary? Dataset size `D`, `M`, and `ef`."
      ]
    },
    {
      "cell_type": "code",
      "execution_count": 23,
      "id": "f7ae14c9-b84e-401a-92a8-ef60c96cc019",
      "metadata": {
        "id": "f7ae14c9-b84e-401a-92a8-ef60c96cc019"
      },
      "outputs": [],
      "source": [
        "import time\n",
        "\n",
        "def test(index, bucket_vectors, nn=100):\n",
        "    start = time.time()\n",
        "    result = find_for_batch(index, bucket_vectors, nn=nn)\n",
        "    return time.time() - start, result"
      ]
    },
    {
      "cell_type": "code",
      "execution_count": 25,
      "id": "0ffda362-3e89-4dcb-a174-9d4d9ddefd66",
      "metadata": {
        "colab": {
          "base_uri": "https://localhost:8080/"
        },
        "id": "0ffda362-3e89-4dcb-a174-9d4d9ddefd66",
        "outputId": "1f981b0e-2e1c-4eaf-eb81-5e070446a403"
      },
      "outputs": [
        {
          "name": "stderr",
          "output_type": "stream",
          "text": [
            "100%|██████████| 60/60 [21:08<00:00, 21.14s/it]\n"
          ]
        }
      ],
      "source": [
        "from itertools import product\n",
        "import tqdm\n",
        "import time\n",
        "\n",
        "# full combination of parameters for grid search\n",
        "hypers = list(product(MS, DS, EFS))\n",
        "result = []\n",
        "\n",
        "for M, D, ef in tqdm.tqdm(hypers):\n",
        "    start = time.time()\n",
        "    \n",
        "    I = get_index(vectors, method='hnsw', efConstruction=ef, efSearch=ef, M=M, cutoff=D)\n",
        "    \n",
        "    \n",
        "    build_time = time.time() - start\n",
        "    \n",
        "    t100, ids100 = test(I, bucket_vectors, nn=100)\n",
        "    t1000, ids1000 = test(I, bucket_vectors, nn=1000)\n",
        "    r100, r1000, r100_ = 0., 0., 0.\n",
        "    \n",
        "    for i, r in enumerate(ground_truth[D]):\n",
        "        r100 += recall(ids100[i], r, 100)\n",
        "        r1000 += recall(ids1000[i], r, 1000)\n",
        "        r100_ += recall(ids1000[i], r, 100)\n",
        "    \n",
        "    r100 /= len(bucket_results)\n",
        "    r1000 /= len(bucket_results)\n",
        "    r100_ /= len(bucket_results) \n",
        "    \n",
        "    result.append(\n",
        "        [M, D, ef, build_time, t100, t1000, r100, r1000, r100_]\n",
        "    )"
      ]
    },
    {
      "cell_type": "code",
      "execution_count": 26,
      "id": "73e8c8db-221c-462c-936c-5b5f37a7a309",
      "metadata": {
        "colab": {
          "base_uri": "https://localhost:8080/",
          "height": 1000
        },
        "id": "73e8c8db-221c-462c-936c-5b5f37a7a309",
        "outputId": "58f42461-52cf-4efc-910c-1beee2a0af7c"
      },
      "outputs": [
        {
          "data": {
            "text/html": [
              "\n",
              "  <div id=\"df-48b57f9d-bb26-46f5-a47b-2f24fe96c533\">\n",
              "    <div class=\"colab-df-container\">\n",
              "      <div>\n",
              "<style scoped>\n",
              "    .dataframe tbody tr th:only-of-type {\n",
              "        vertical-align: middle;\n",
              "    }\n",
              "\n",
              "    .dataframe tbody tr th {\n",
              "        vertical-align: top;\n",
              "    }\n",
              "\n",
              "    .dataframe thead th {\n",
              "        text-align: right;\n",
              "    }\n",
              "</style>\n",
              "<table border=\"1\" class=\"dataframe\">\n",
              "  <thead>\n",
              "    <tr style=\"text-align: right;\">\n",
              "      <th></th>\n",
              "      <th>M</th>\n",
              "      <th>D</th>\n",
              "      <th>ef</th>\n",
              "      <th>build time</th>\n",
              "      <th>search time 100</th>\n",
              "      <th>search time 1000</th>\n",
              "      <th>recall@100</th>\n",
              "      <th>recall@1000</th>\n",
              "      <th>recall@100*</th>\n",
              "    </tr>\n",
              "  </thead>\n",
              "  <tbody>\n",
              "    <tr>\n",
              "      <th>0</th>\n",
              "      <td>8</td>\n",
              "      <td>2000</td>\n",
              "      <td>100</td>\n",
              "      <td>2.903579</td>\n",
              "      <td>0.123142</td>\n",
              "      <td>0.224653</td>\n",
              "      <td>99.9810</td>\n",
              "      <td>425.9380</td>\n",
              "      <td>99.9810</td>\n",
              "    </tr>\n",
              "    <tr>\n",
              "      <th>1</th>\n",
              "      <td>8</td>\n",
              "      <td>2000</td>\n",
              "      <td>200</td>\n",
              "      <td>1.349838</td>\n",
              "      <td>0.115657</td>\n",
              "      <td>0.218128</td>\n",
              "      <td>99.9645</td>\n",
              "      <td>427.0775</td>\n",
              "      <td>99.9645</td>\n",
              "    </tr>\n",
              "    <tr>\n",
              "      <th>2</th>\n",
              "      <td>8</td>\n",
              "      <td>2000</td>\n",
              "      <td>400</td>\n",
              "      <td>1.564412</td>\n",
              "      <td>0.111866</td>\n",
              "      <td>0.201041</td>\n",
              "      <td>99.9975</td>\n",
              "      <td>427.9825</td>\n",
              "      <td>99.9975</td>\n",
              "    </tr>\n",
              "    <tr>\n",
              "      <th>3</th>\n",
              "      <td>8</td>\n",
              "      <td>5000</td>\n",
              "      <td>100</td>\n",
              "      <td>4.799228</td>\n",
              "      <td>0.119602</td>\n",
              "      <td>0.226384</td>\n",
              "      <td>99.9325</td>\n",
              "      <td>471.9410</td>\n",
              "      <td>99.9325</td>\n",
              "    </tr>\n",
              "    <tr>\n",
              "      <th>4</th>\n",
              "      <td>8</td>\n",
              "      <td>5000</td>\n",
              "      <td>200</td>\n",
              "      <td>4.089578</td>\n",
              "      <td>0.138128</td>\n",
              "      <td>0.247061</td>\n",
              "      <td>99.9405</td>\n",
              "      <td>472.1980</td>\n",
              "      <td>99.9405</td>\n",
              "    </tr>\n",
              "    <tr>\n",
              "      <th>5</th>\n",
              "      <td>8</td>\n",
              "      <td>5000</td>\n",
              "      <td>400</td>\n",
              "      <td>4.854168</td>\n",
              "      <td>0.124066</td>\n",
              "      <td>0.243368</td>\n",
              "      <td>99.9440</td>\n",
              "      <td>472.5055</td>\n",
              "      <td>99.9440</td>\n",
              "    </tr>\n",
              "    <tr>\n",
              "      <th>6</th>\n",
              "      <td>8</td>\n",
              "      <td>10000</td>\n",
              "      <td>100</td>\n",
              "      <td>12.886716</td>\n",
              "      <td>0.177030</td>\n",
              "      <td>0.342101</td>\n",
              "      <td>99.9070</td>\n",
              "      <td>490.6890</td>\n",
              "      <td>99.9070</td>\n",
              "    </tr>\n",
              "    <tr>\n",
              "      <th>7</th>\n",
              "      <td>8</td>\n",
              "      <td>10000</td>\n",
              "      <td>200</td>\n",
              "      <td>11.618291</td>\n",
              "      <td>0.172865</td>\n",
              "      <td>0.323886</td>\n",
              "      <td>99.8605</td>\n",
              "      <td>488.1375</td>\n",
              "      <td>99.8605</td>\n",
              "    </tr>\n",
              "    <tr>\n",
              "      <th>8</th>\n",
              "      <td>8</td>\n",
              "      <td>10000</td>\n",
              "      <td>400</td>\n",
              "      <td>11.461911</td>\n",
              "      <td>0.142029</td>\n",
              "      <td>0.274228</td>\n",
              "      <td>99.9425</td>\n",
              "      <td>489.7930</td>\n",
              "      <td>99.9425</td>\n",
              "    </tr>\n",
              "    <tr>\n",
              "      <th>9</th>\n",
              "      <td>8</td>\n",
              "      <td>20000</td>\n",
              "      <td>100</td>\n",
              "      <td>30.967015</td>\n",
              "      <td>0.225737</td>\n",
              "      <td>0.390831</td>\n",
              "      <td>99.7985</td>\n",
              "      <td>501.1045</td>\n",
              "      <td>99.7985</td>\n",
              "    </tr>\n",
              "    <tr>\n",
              "      <th>10</th>\n",
              "      <td>8</td>\n",
              "      <td>20000</td>\n",
              "      <td>200</td>\n",
              "      <td>30.179886</td>\n",
              "      <td>0.216780</td>\n",
              "      <td>0.370029</td>\n",
              "      <td>99.9165</td>\n",
              "      <td>503.2260</td>\n",
              "      <td>99.9165</td>\n",
              "    </tr>\n",
              "    <tr>\n",
              "      <th>11</th>\n",
              "      <td>8</td>\n",
              "      <td>20000</td>\n",
              "      <td>400</td>\n",
              "      <td>31.348680</td>\n",
              "      <td>0.231010</td>\n",
              "      <td>0.355609</td>\n",
              "      <td>99.8635</td>\n",
              "      <td>495.2500</td>\n",
              "      <td>99.8635</td>\n",
              "    </tr>\n",
              "    <tr>\n",
              "      <th>12</th>\n",
              "      <td>8</td>\n",
              "      <td>30000</td>\n",
              "      <td>100</td>\n",
              "      <td>53.952052</td>\n",
              "      <td>0.273236</td>\n",
              "      <td>0.423372</td>\n",
              "      <td>99.8420</td>\n",
              "      <td>511.5995</td>\n",
              "      <td>99.8420</td>\n",
              "    </tr>\n",
              "    <tr>\n",
              "      <th>13</th>\n",
              "      <td>8</td>\n",
              "      <td>30000</td>\n",
              "      <td>200</td>\n",
              "      <td>53.156332</td>\n",
              "      <td>0.259475</td>\n",
              "      <td>0.484837</td>\n",
              "      <td>99.8880</td>\n",
              "      <td>509.7990</td>\n",
              "      <td>99.8880</td>\n",
              "    </tr>\n",
              "    <tr>\n",
              "      <th>14</th>\n",
              "      <td>8</td>\n",
              "      <td>30000</td>\n",
              "      <td>400</td>\n",
              "      <td>53.463747</td>\n",
              "      <td>0.248005</td>\n",
              "      <td>0.390551</td>\n",
              "      <td>99.8390</td>\n",
              "      <td>512.2325</td>\n",
              "      <td>99.8390</td>\n",
              "    </tr>\n",
              "    <tr>\n",
              "      <th>15</th>\n",
              "      <td>16</td>\n",
              "      <td>2000</td>\n",
              "      <td>100</td>\n",
              "      <td>1.415377</td>\n",
              "      <td>0.100366</td>\n",
              "      <td>0.192957</td>\n",
              "      <td>99.9720</td>\n",
              "      <td>425.9045</td>\n",
              "      <td>99.9720</td>\n",
              "    </tr>\n",
              "    <tr>\n",
              "      <th>16</th>\n",
              "      <td>16</td>\n",
              "      <td>2000</td>\n",
              "      <td>200</td>\n",
              "      <td>1.385353</td>\n",
              "      <td>0.106426</td>\n",
              "      <td>0.295728</td>\n",
              "      <td>99.9835</td>\n",
              "      <td>424.4490</td>\n",
              "      <td>99.9835</td>\n",
              "    </tr>\n",
              "    <tr>\n",
              "      <th>17</th>\n",
              "      <td>16</td>\n",
              "      <td>2000</td>\n",
              "      <td>400</td>\n",
              "      <td>1.739116</td>\n",
              "      <td>0.100491</td>\n",
              "      <td>0.185612</td>\n",
              "      <td>99.9900</td>\n",
              "      <td>426.0740</td>\n",
              "      <td>99.9900</td>\n",
              "    </tr>\n",
              "    <tr>\n",
              "      <th>18</th>\n",
              "      <td>16</td>\n",
              "      <td>5000</td>\n",
              "      <td>100</td>\n",
              "      <td>4.155895</td>\n",
              "      <td>0.133339</td>\n",
              "      <td>0.271894</td>\n",
              "      <td>99.9405</td>\n",
              "      <td>472.5190</td>\n",
              "      <td>99.9405</td>\n",
              "    </tr>\n",
              "    <tr>\n",
              "      <th>19</th>\n",
              "      <td>16</td>\n",
              "      <td>5000</td>\n",
              "      <td>200</td>\n",
              "      <td>4.202043</td>\n",
              "      <td>0.127381</td>\n",
              "      <td>0.350140</td>\n",
              "      <td>99.9625</td>\n",
              "      <td>475.2980</td>\n",
              "      <td>99.9625</td>\n",
              "    </tr>\n",
              "    <tr>\n",
              "      <th>20</th>\n",
              "      <td>16</td>\n",
              "      <td>5000</td>\n",
              "      <td>400</td>\n",
              "      <td>4.521131</td>\n",
              "      <td>0.138357</td>\n",
              "      <td>0.267837</td>\n",
              "      <td>99.9510</td>\n",
              "      <td>472.3130</td>\n",
              "      <td>99.9510</td>\n",
              "    </tr>\n",
              "    <tr>\n",
              "      <th>21</th>\n",
              "      <td>16</td>\n",
              "      <td>10000</td>\n",
              "      <td>100</td>\n",
              "      <td>11.982522</td>\n",
              "      <td>0.166133</td>\n",
              "      <td>0.281715</td>\n",
              "      <td>99.9005</td>\n",
              "      <td>489.2345</td>\n",
              "      <td>99.9005</td>\n",
              "    </tr>\n",
              "    <tr>\n",
              "      <th>22</th>\n",
              "      <td>16</td>\n",
              "      <td>10000</td>\n",
              "      <td>200</td>\n",
              "      <td>11.852976</td>\n",
              "      <td>0.153856</td>\n",
              "      <td>0.325426</td>\n",
              "      <td>99.8775</td>\n",
              "      <td>488.3600</td>\n",
              "      <td>99.8775</td>\n",
              "    </tr>\n",
              "    <tr>\n",
              "      <th>23</th>\n",
              "      <td>16</td>\n",
              "      <td>10000</td>\n",
              "      <td>400</td>\n",
              "      <td>11.671782</td>\n",
              "      <td>0.168385</td>\n",
              "      <td>0.309989</td>\n",
              "      <td>99.8750</td>\n",
              "      <td>487.9805</td>\n",
              "      <td>99.8750</td>\n",
              "    </tr>\n",
              "    <tr>\n",
              "      <th>24</th>\n",
              "      <td>16</td>\n",
              "      <td>20000</td>\n",
              "      <td>100</td>\n",
              "      <td>31.033668</td>\n",
              "      <td>0.214415</td>\n",
              "      <td>0.358523</td>\n",
              "      <td>99.8300</td>\n",
              "      <td>503.0765</td>\n",
              "      <td>99.8300</td>\n",
              "    </tr>\n",
              "    <tr>\n",
              "      <th>25</th>\n",
              "      <td>16</td>\n",
              "      <td>20000</td>\n",
              "      <td>200</td>\n",
              "      <td>31.895632</td>\n",
              "      <td>0.213720</td>\n",
              "      <td>0.364555</td>\n",
              "      <td>99.8015</td>\n",
              "      <td>502.5350</td>\n",
              "      <td>99.8015</td>\n",
              "    </tr>\n",
              "    <tr>\n",
              "      <th>26</th>\n",
              "      <td>16</td>\n",
              "      <td>20000</td>\n",
              "      <td>400</td>\n",
              "      <td>30.842449</td>\n",
              "      <td>0.229839</td>\n",
              "      <td>0.368760</td>\n",
              "      <td>99.8415</td>\n",
              "      <td>499.1285</td>\n",
              "      <td>99.8415</td>\n",
              "    </tr>\n",
              "    <tr>\n",
              "      <th>27</th>\n",
              "      <td>16</td>\n",
              "      <td>30000</td>\n",
              "      <td>100</td>\n",
              "      <td>54.350179</td>\n",
              "      <td>0.269474</td>\n",
              "      <td>0.453684</td>\n",
              "      <td>99.8205</td>\n",
              "      <td>511.8845</td>\n",
              "      <td>99.8205</td>\n",
              "    </tr>\n",
              "    <tr>\n",
              "      <th>28</th>\n",
              "      <td>16</td>\n",
              "      <td>30000</td>\n",
              "      <td>200</td>\n",
              "      <td>54.446520</td>\n",
              "      <td>0.265952</td>\n",
              "      <td>0.453760</td>\n",
              "      <td>99.8725</td>\n",
              "      <td>511.1930</td>\n",
              "      <td>99.8725</td>\n",
              "    </tr>\n",
              "    <tr>\n",
              "      <th>29</th>\n",
              "      <td>16</td>\n",
              "      <td>30000</td>\n",
              "      <td>400</td>\n",
              "      <td>54.244917</td>\n",
              "      <td>0.258018</td>\n",
              "      <td>0.390065</td>\n",
              "      <td>99.8500</td>\n",
              "      <td>509.8215</td>\n",
              "      <td>99.8500</td>\n",
              "    </tr>\n",
              "    <tr>\n",
              "      <th>30</th>\n",
              "      <td>32</td>\n",
              "      <td>2000</td>\n",
              "      <td>100</td>\n",
              "      <td>1.373069</td>\n",
              "      <td>0.116453</td>\n",
              "      <td>0.195057</td>\n",
              "      <td>99.9715</td>\n",
              "      <td>424.9005</td>\n",
              "      <td>99.9715</td>\n",
              "    </tr>\n",
              "    <tr>\n",
              "      <th>31</th>\n",
              "      <td>32</td>\n",
              "      <td>2000</td>\n",
              "      <td>200</td>\n",
              "      <td>1.389746</td>\n",
              "      <td>0.098452</td>\n",
              "      <td>0.191997</td>\n",
              "      <td>99.9940</td>\n",
              "      <td>424.9850</td>\n",
              "      <td>99.9940</td>\n",
              "    </tr>\n",
              "    <tr>\n",
              "      <th>32</th>\n",
              "      <td>32</td>\n",
              "      <td>2000</td>\n",
              "      <td>400</td>\n",
              "      <td>1.377036</td>\n",
              "      <td>0.102119</td>\n",
              "      <td>0.185665</td>\n",
              "      <td>99.9945</td>\n",
              "      <td>425.7250</td>\n",
              "      <td>99.9945</td>\n",
              "    </tr>\n",
              "    <tr>\n",
              "      <th>33</th>\n",
              "      <td>32</td>\n",
              "      <td>5000</td>\n",
              "      <td>100</td>\n",
              "      <td>4.516568</td>\n",
              "      <td>0.219402</td>\n",
              "      <td>0.423537</td>\n",
              "      <td>99.9620</td>\n",
              "      <td>470.8940</td>\n",
              "      <td>99.9620</td>\n",
              "    </tr>\n",
              "    <tr>\n",
              "      <th>34</th>\n",
              "      <td>32</td>\n",
              "      <td>5000</td>\n",
              "      <td>200</td>\n",
              "      <td>4.243572</td>\n",
              "      <td>0.120754</td>\n",
              "      <td>0.239413</td>\n",
              "      <td>99.9480</td>\n",
              "      <td>469.8340</td>\n",
              "      <td>99.9480</td>\n",
              "    </tr>\n",
              "    <tr>\n",
              "      <th>35</th>\n",
              "      <td>32</td>\n",
              "      <td>5000</td>\n",
              "      <td>400</td>\n",
              "      <td>4.134575</td>\n",
              "      <td>0.130345</td>\n",
              "      <td>0.245517</td>\n",
              "      <td>99.9350</td>\n",
              "      <td>469.6625</td>\n",
              "      <td>99.9350</td>\n",
              "    </tr>\n",
              "    <tr>\n",
              "      <th>36</th>\n",
              "      <td>32</td>\n",
              "      <td>10000</td>\n",
              "      <td>100</td>\n",
              "      <td>11.701745</td>\n",
              "      <td>0.138059</td>\n",
              "      <td>0.276752</td>\n",
              "      <td>99.9225</td>\n",
              "      <td>490.0075</td>\n",
              "      <td>99.9225</td>\n",
              "    </tr>\n",
              "    <tr>\n",
              "      <th>37</th>\n",
              "      <td>32</td>\n",
              "      <td>10000</td>\n",
              "      <td>200</td>\n",
              "      <td>11.743461</td>\n",
              "      <td>0.266432</td>\n",
              "      <td>0.548192</td>\n",
              "      <td>99.9215</td>\n",
              "      <td>490.4215</td>\n",
              "      <td>99.9215</td>\n",
              "    </tr>\n",
              "    <tr>\n",
              "      <th>38</th>\n",
              "      <td>32</td>\n",
              "      <td>10000</td>\n",
              "      <td>400</td>\n",
              "      <td>11.599504</td>\n",
              "      <td>0.290404</td>\n",
              "      <td>0.487329</td>\n",
              "      <td>99.9130</td>\n",
              "      <td>489.6820</td>\n",
              "      <td>99.9130</td>\n",
              "    </tr>\n",
              "    <tr>\n",
              "      <th>39</th>\n",
              "      <td>32</td>\n",
              "      <td>20000</td>\n",
              "      <td>100</td>\n",
              "      <td>30.505033</td>\n",
              "      <td>0.224369</td>\n",
              "      <td>0.393445</td>\n",
              "      <td>99.8055</td>\n",
              "      <td>498.6465</td>\n",
              "      <td>99.8055</td>\n",
              "    </tr>\n",
              "    <tr>\n",
              "      <th>40</th>\n",
              "      <td>32</td>\n",
              "      <td>20000</td>\n",
              "      <td>200</td>\n",
              "      <td>31.358827</td>\n",
              "      <td>0.226270</td>\n",
              "      <td>0.389196</td>\n",
              "      <td>99.7605</td>\n",
              "      <td>494.2870</td>\n",
              "      <td>99.7605</td>\n",
              "    </tr>\n",
              "    <tr>\n",
              "      <th>41</th>\n",
              "      <td>32</td>\n",
              "      <td>20000</td>\n",
              "      <td>400</td>\n",
              "      <td>32.010229</td>\n",
              "      <td>0.234273</td>\n",
              "      <td>0.393424</td>\n",
              "      <td>99.8440</td>\n",
              "      <td>500.4460</td>\n",
              "      <td>99.8440</td>\n",
              "    </tr>\n",
              "    <tr>\n",
              "      <th>42</th>\n",
              "      <td>32</td>\n",
              "      <td>30000</td>\n",
              "      <td>100</td>\n",
              "      <td>53.715116</td>\n",
              "      <td>0.444891</td>\n",
              "      <td>0.531241</td>\n",
              "      <td>99.9120</td>\n",
              "      <td>510.8770</td>\n",
              "      <td>99.9120</td>\n",
              "    </tr>\n",
              "    <tr>\n",
              "      <th>43</th>\n",
              "      <td>32</td>\n",
              "      <td>30000</td>\n",
              "      <td>200</td>\n",
              "      <td>53.172872</td>\n",
              "      <td>0.265277</td>\n",
              "      <td>0.409759</td>\n",
              "      <td>99.8485</td>\n",
              "      <td>511.3100</td>\n",
              "      <td>99.8485</td>\n",
              "    </tr>\n",
              "    <tr>\n",
              "      <th>44</th>\n",
              "      <td>32</td>\n",
              "      <td>30000</td>\n",
              "      <td>400</td>\n",
              "      <td>54.328144</td>\n",
              "      <td>0.261618</td>\n",
              "      <td>0.389045</td>\n",
              "      <td>99.9055</td>\n",
              "      <td>510.0250</td>\n",
              "      <td>99.9055</td>\n",
              "    </tr>\n",
              "    <tr>\n",
              "      <th>45</th>\n",
              "      <td>64</td>\n",
              "      <td>2000</td>\n",
              "      <td>100</td>\n",
              "      <td>1.412646</td>\n",
              "      <td>0.099483</td>\n",
              "      <td>0.191386</td>\n",
              "      <td>99.9845</td>\n",
              "      <td>426.5665</td>\n",
              "      <td>99.9845</td>\n",
              "    </tr>\n",
              "    <tr>\n",
              "      <th>46</th>\n",
              "      <td>64</td>\n",
              "      <td>2000</td>\n",
              "      <td>200</td>\n",
              "      <td>1.372842</td>\n",
              "      <td>0.100679</td>\n",
              "      <td>0.195728</td>\n",
              "      <td>99.9840</td>\n",
              "      <td>426.7900</td>\n",
              "      <td>99.9840</td>\n",
              "    </tr>\n",
              "    <tr>\n",
              "      <th>47</th>\n",
              "      <td>64</td>\n",
              "      <td>2000</td>\n",
              "      <td>400</td>\n",
              "      <td>1.403561</td>\n",
              "      <td>0.150756</td>\n",
              "      <td>0.288169</td>\n",
              "      <td>100.0000</td>\n",
              "      <td>426.5840</td>\n",
              "      <td>100.0000</td>\n",
              "    </tr>\n",
              "    <tr>\n",
              "      <th>48</th>\n",
              "      <td>64</td>\n",
              "      <td>5000</td>\n",
              "      <td>100</td>\n",
              "      <td>4.510513</td>\n",
              "      <td>0.118337</td>\n",
              "      <td>0.230438</td>\n",
              "      <td>99.9770</td>\n",
              "      <td>471.2660</td>\n",
              "      <td>99.9770</td>\n",
              "    </tr>\n",
              "    <tr>\n",
              "      <th>49</th>\n",
              "      <td>64</td>\n",
              "      <td>5000</td>\n",
              "      <td>200</td>\n",
              "      <td>4.126179</td>\n",
              "      <td>0.125398</td>\n",
              "      <td>0.230673</td>\n",
              "      <td>99.9685</td>\n",
              "      <td>471.1930</td>\n",
              "      <td>99.9685</td>\n",
              "    </tr>\n",
              "    <tr>\n",
              "      <th>50</th>\n",
              "      <td>64</td>\n",
              "      <td>5000</td>\n",
              "      <td>400</td>\n",
              "      <td>4.923432</td>\n",
              "      <td>0.122526</td>\n",
              "      <td>0.242771</td>\n",
              "      <td>99.9735</td>\n",
              "      <td>468.1150</td>\n",
              "      <td>99.9735</td>\n",
              "    </tr>\n",
              "    <tr>\n",
              "      <th>51</th>\n",
              "      <td>64</td>\n",
              "      <td>10000</td>\n",
              "      <td>100</td>\n",
              "      <td>11.640735</td>\n",
              "      <td>0.149523</td>\n",
              "      <td>0.278103</td>\n",
              "      <td>99.8790</td>\n",
              "      <td>489.0245</td>\n",
              "      <td>99.8790</td>\n",
              "    </tr>\n",
              "    <tr>\n",
              "      <th>52</th>\n",
              "      <td>64</td>\n",
              "      <td>10000</td>\n",
              "      <td>200</td>\n",
              "      <td>11.901482</td>\n",
              "      <td>0.157118</td>\n",
              "      <td>0.277979</td>\n",
              "      <td>99.8290</td>\n",
              "      <td>485.2935</td>\n",
              "      <td>99.8290</td>\n",
              "    </tr>\n",
              "    <tr>\n",
              "      <th>53</th>\n",
              "      <td>64</td>\n",
              "      <td>10000</td>\n",
              "      <td>400</td>\n",
              "      <td>11.813667</td>\n",
              "      <td>0.149312</td>\n",
              "      <td>0.286948</td>\n",
              "      <td>99.9280</td>\n",
              "      <td>487.1880</td>\n",
              "      <td>99.9280</td>\n",
              "    </tr>\n",
              "    <tr>\n",
              "      <th>54</th>\n",
              "      <td>64</td>\n",
              "      <td>20000</td>\n",
              "      <td>100</td>\n",
              "      <td>31.388160</td>\n",
              "      <td>0.221047</td>\n",
              "      <td>0.365657</td>\n",
              "      <td>99.8655</td>\n",
              "      <td>500.5790</td>\n",
              "      <td>99.8655</td>\n",
              "    </tr>\n",
              "    <tr>\n",
              "      <th>55</th>\n",
              "      <td>64</td>\n",
              "      <td>20000</td>\n",
              "      <td>200</td>\n",
              "      <td>30.558937</td>\n",
              "      <td>0.231771</td>\n",
              "      <td>0.494226</td>\n",
              "      <td>99.8325</td>\n",
              "      <td>498.2650</td>\n",
              "      <td>99.8325</td>\n",
              "    </tr>\n",
              "    <tr>\n",
              "      <th>56</th>\n",
              "      <td>64</td>\n",
              "      <td>20000</td>\n",
              "      <td>400</td>\n",
              "      <td>31.763453</td>\n",
              "      <td>0.224640</td>\n",
              "      <td>0.365309</td>\n",
              "      <td>99.7950</td>\n",
              "      <td>495.8780</td>\n",
              "      <td>99.7950</td>\n",
              "    </tr>\n",
              "    <tr>\n",
              "      <th>57</th>\n",
              "      <td>64</td>\n",
              "      <td>30000</td>\n",
              "      <td>100</td>\n",
              "      <td>53.620910</td>\n",
              "      <td>0.251134</td>\n",
              "      <td>0.414066</td>\n",
              "      <td>99.8740</td>\n",
              "      <td>511.4180</td>\n",
              "      <td>99.8740</td>\n",
              "    </tr>\n",
              "    <tr>\n",
              "      <th>58</th>\n",
              "      <td>64</td>\n",
              "      <td>30000</td>\n",
              "      <td>200</td>\n",
              "      <td>53.661407</td>\n",
              "      <td>0.251203</td>\n",
              "      <td>0.409766</td>\n",
              "      <td>99.8915</td>\n",
              "      <td>508.2105</td>\n",
              "      <td>99.8915</td>\n",
              "    </tr>\n",
              "    <tr>\n",
              "      <th>59</th>\n",
              "      <td>64</td>\n",
              "      <td>30000</td>\n",
              "      <td>400</td>\n",
              "      <td>52.799510</td>\n",
              "      <td>0.257929</td>\n",
              "      <td>0.422100</td>\n",
              "      <td>99.7880</td>\n",
              "      <td>509.3530</td>\n",
              "      <td>99.7880</td>\n",
              "    </tr>\n",
              "  </tbody>\n",
              "</table>\n",
              "</div>\n",
              "      <button class=\"colab-df-convert\" onclick=\"convertToInteractive('df-48b57f9d-bb26-46f5-a47b-2f24fe96c533')\"\n",
              "              title=\"Convert this dataframe to an interactive table.\"\n",
              "              style=\"display:none;\">\n",
              "        \n",
              "  <svg xmlns=\"http://www.w3.org/2000/svg\" height=\"24px\"viewBox=\"0 0 24 24\"\n",
              "       width=\"24px\">\n",
              "    <path d=\"M0 0h24v24H0V0z\" fill=\"none\"/>\n",
              "    <path d=\"M18.56 5.44l.94 2.06.94-2.06 2.06-.94-2.06-.94-.94-2.06-.94 2.06-2.06.94zm-11 1L8.5 8.5l.94-2.06 2.06-.94-2.06-.94L8.5 2.5l-.94 2.06-2.06.94zm10 10l.94 2.06.94-2.06 2.06-.94-2.06-.94-.94-2.06-.94 2.06-2.06.94z\"/><path d=\"M17.41 7.96l-1.37-1.37c-.4-.4-.92-.59-1.43-.59-.52 0-1.04.2-1.43.59L10.3 9.45l-7.72 7.72c-.78.78-.78 2.05 0 2.83L4 21.41c.39.39.9.59 1.41.59.51 0 1.02-.2 1.41-.59l7.78-7.78 2.81-2.81c.8-.78.8-2.07 0-2.86zM5.41 20L4 18.59l7.72-7.72 1.47 1.35L5.41 20z\"/>\n",
              "  </svg>\n",
              "      </button>\n",
              "      \n",
              "  <style>\n",
              "    .colab-df-container {\n",
              "      display:flex;\n",
              "      flex-wrap:wrap;\n",
              "      gap: 12px;\n",
              "    }\n",
              "\n",
              "    .colab-df-convert {\n",
              "      background-color: #E8F0FE;\n",
              "      border: none;\n",
              "      border-radius: 50%;\n",
              "      cursor: pointer;\n",
              "      display: none;\n",
              "      fill: #1967D2;\n",
              "      height: 32px;\n",
              "      padding: 0 0 0 0;\n",
              "      width: 32px;\n",
              "    }\n",
              "\n",
              "    .colab-df-convert:hover {\n",
              "      background-color: #E2EBFA;\n",
              "      box-shadow: 0px 1px 2px rgba(60, 64, 67, 0.3), 0px 1px 3px 1px rgba(60, 64, 67, 0.15);\n",
              "      fill: #174EA6;\n",
              "    }\n",
              "\n",
              "    [theme=dark] .colab-df-convert {\n",
              "      background-color: #3B4455;\n",
              "      fill: #D2E3FC;\n",
              "    }\n",
              "\n",
              "    [theme=dark] .colab-df-convert:hover {\n",
              "      background-color: #434B5C;\n",
              "      box-shadow: 0px 1px 3px 1px rgba(0, 0, 0, 0.15);\n",
              "      filter: drop-shadow(0px 1px 2px rgba(0, 0, 0, 0.3));\n",
              "      fill: #FFFFFF;\n",
              "    }\n",
              "  </style>\n",
              "\n",
              "      <script>\n",
              "        const buttonEl =\n",
              "          document.querySelector('#df-48b57f9d-bb26-46f5-a47b-2f24fe96c533 button.colab-df-convert');\n",
              "        buttonEl.style.display =\n",
              "          google.colab.kernel.accessAllowed ? 'block' : 'none';\n",
              "\n",
              "        async function convertToInteractive(key) {\n",
              "          const element = document.querySelector('#df-48b57f9d-bb26-46f5-a47b-2f24fe96c533');\n",
              "          const dataTable =\n",
              "            await google.colab.kernel.invokeFunction('convertToInteractive',\n",
              "                                                     [key], {});\n",
              "          if (!dataTable) return;\n",
              "\n",
              "          const docLinkHtml = 'Like what you see? Visit the ' +\n",
              "            '<a target=\"_blank\" href=https://colab.research.google.com/notebooks/data_table.ipynb>data table notebook</a>'\n",
              "            + ' to learn more about interactive tables.';\n",
              "          element.innerHTML = '';\n",
              "          dataTable['output_type'] = 'display_data';\n",
              "          await google.colab.output.renderOutput(dataTable, element);\n",
              "          const docLink = document.createElement('div');\n",
              "          docLink.innerHTML = docLinkHtml;\n",
              "          element.appendChild(docLink);\n",
              "        }\n",
              "      </script>\n",
              "    </div>\n",
              "  </div>\n",
              "  "
            ],
            "text/plain": [
              "     M      D   ef  build time  search time 100  search time 1000  recall@100  \\\n",
              "0    8   2000  100    2.903579         0.123142          0.224653     99.9810   \n",
              "1    8   2000  200    1.349838         0.115657          0.218128     99.9645   \n",
              "2    8   2000  400    1.564412         0.111866          0.201041     99.9975   \n",
              "3    8   5000  100    4.799228         0.119602          0.226384     99.9325   \n",
              "4    8   5000  200    4.089578         0.138128          0.247061     99.9405   \n",
              "5    8   5000  400    4.854168         0.124066          0.243368     99.9440   \n",
              "6    8  10000  100   12.886716         0.177030          0.342101     99.9070   \n",
              "7    8  10000  200   11.618291         0.172865          0.323886     99.8605   \n",
              "8    8  10000  400   11.461911         0.142029          0.274228     99.9425   \n",
              "9    8  20000  100   30.967015         0.225737          0.390831     99.7985   \n",
              "10   8  20000  200   30.179886         0.216780          0.370029     99.9165   \n",
              "11   8  20000  400   31.348680         0.231010          0.355609     99.8635   \n",
              "12   8  30000  100   53.952052         0.273236          0.423372     99.8420   \n",
              "13   8  30000  200   53.156332         0.259475          0.484837     99.8880   \n",
              "14   8  30000  400   53.463747         0.248005          0.390551     99.8390   \n",
              "15  16   2000  100    1.415377         0.100366          0.192957     99.9720   \n",
              "16  16   2000  200    1.385353         0.106426          0.295728     99.9835   \n",
              "17  16   2000  400    1.739116         0.100491          0.185612     99.9900   \n",
              "18  16   5000  100    4.155895         0.133339          0.271894     99.9405   \n",
              "19  16   5000  200    4.202043         0.127381          0.350140     99.9625   \n",
              "20  16   5000  400    4.521131         0.138357          0.267837     99.9510   \n",
              "21  16  10000  100   11.982522         0.166133          0.281715     99.9005   \n",
              "22  16  10000  200   11.852976         0.153856          0.325426     99.8775   \n",
              "23  16  10000  400   11.671782         0.168385          0.309989     99.8750   \n",
              "24  16  20000  100   31.033668         0.214415          0.358523     99.8300   \n",
              "25  16  20000  200   31.895632         0.213720          0.364555     99.8015   \n",
              "26  16  20000  400   30.842449         0.229839          0.368760     99.8415   \n",
              "27  16  30000  100   54.350179         0.269474          0.453684     99.8205   \n",
              "28  16  30000  200   54.446520         0.265952          0.453760     99.8725   \n",
              "29  16  30000  400   54.244917         0.258018          0.390065     99.8500   \n",
              "30  32   2000  100    1.373069         0.116453          0.195057     99.9715   \n",
              "31  32   2000  200    1.389746         0.098452          0.191997     99.9940   \n",
              "32  32   2000  400    1.377036         0.102119          0.185665     99.9945   \n",
              "33  32   5000  100    4.516568         0.219402          0.423537     99.9620   \n",
              "34  32   5000  200    4.243572         0.120754          0.239413     99.9480   \n",
              "35  32   5000  400    4.134575         0.130345          0.245517     99.9350   \n",
              "36  32  10000  100   11.701745         0.138059          0.276752     99.9225   \n",
              "37  32  10000  200   11.743461         0.266432          0.548192     99.9215   \n",
              "38  32  10000  400   11.599504         0.290404          0.487329     99.9130   \n",
              "39  32  20000  100   30.505033         0.224369          0.393445     99.8055   \n",
              "40  32  20000  200   31.358827         0.226270          0.389196     99.7605   \n",
              "41  32  20000  400   32.010229         0.234273          0.393424     99.8440   \n",
              "42  32  30000  100   53.715116         0.444891          0.531241     99.9120   \n",
              "43  32  30000  200   53.172872         0.265277          0.409759     99.8485   \n",
              "44  32  30000  400   54.328144         0.261618          0.389045     99.9055   \n",
              "45  64   2000  100    1.412646         0.099483          0.191386     99.9845   \n",
              "46  64   2000  200    1.372842         0.100679          0.195728     99.9840   \n",
              "47  64   2000  400    1.403561         0.150756          0.288169    100.0000   \n",
              "48  64   5000  100    4.510513         0.118337          0.230438     99.9770   \n",
              "49  64   5000  200    4.126179         0.125398          0.230673     99.9685   \n",
              "50  64   5000  400    4.923432         0.122526          0.242771     99.9735   \n",
              "51  64  10000  100   11.640735         0.149523          0.278103     99.8790   \n",
              "52  64  10000  200   11.901482         0.157118          0.277979     99.8290   \n",
              "53  64  10000  400   11.813667         0.149312          0.286948     99.9280   \n",
              "54  64  20000  100   31.388160         0.221047          0.365657     99.8655   \n",
              "55  64  20000  200   30.558937         0.231771          0.494226     99.8325   \n",
              "56  64  20000  400   31.763453         0.224640          0.365309     99.7950   \n",
              "57  64  30000  100   53.620910         0.251134          0.414066     99.8740   \n",
              "58  64  30000  200   53.661407         0.251203          0.409766     99.8915   \n",
              "59  64  30000  400   52.799510         0.257929          0.422100     99.7880   \n",
              "\n",
              "    recall@1000  recall@100*  \n",
              "0      425.9380      99.9810  \n",
              "1      427.0775      99.9645  \n",
              "2      427.9825      99.9975  \n",
              "3      471.9410      99.9325  \n",
              "4      472.1980      99.9405  \n",
              "5      472.5055      99.9440  \n",
              "6      490.6890      99.9070  \n",
              "7      488.1375      99.8605  \n",
              "8      489.7930      99.9425  \n",
              "9      501.1045      99.7985  \n",
              "10     503.2260      99.9165  \n",
              "11     495.2500      99.8635  \n",
              "12     511.5995      99.8420  \n",
              "13     509.7990      99.8880  \n",
              "14     512.2325      99.8390  \n",
              "15     425.9045      99.9720  \n",
              "16     424.4490      99.9835  \n",
              "17     426.0740      99.9900  \n",
              "18     472.5190      99.9405  \n",
              "19     475.2980      99.9625  \n",
              "20     472.3130      99.9510  \n",
              "21     489.2345      99.9005  \n",
              "22     488.3600      99.8775  \n",
              "23     487.9805      99.8750  \n",
              "24     503.0765      99.8300  \n",
              "25     502.5350      99.8015  \n",
              "26     499.1285      99.8415  \n",
              "27     511.8845      99.8205  \n",
              "28     511.1930      99.8725  \n",
              "29     509.8215      99.8500  \n",
              "30     424.9005      99.9715  \n",
              "31     424.9850      99.9940  \n",
              "32     425.7250      99.9945  \n",
              "33     470.8940      99.9620  \n",
              "34     469.8340      99.9480  \n",
              "35     469.6625      99.9350  \n",
              "36     490.0075      99.9225  \n",
              "37     490.4215      99.9215  \n",
              "38     489.6820      99.9130  \n",
              "39     498.6465      99.8055  \n",
              "40     494.2870      99.7605  \n",
              "41     500.4460      99.8440  \n",
              "42     510.8770      99.9120  \n",
              "43     511.3100      99.8485  \n",
              "44     510.0250      99.9055  \n",
              "45     426.5665      99.9845  \n",
              "46     426.7900      99.9840  \n",
              "47     426.5840     100.0000  \n",
              "48     471.2660      99.9770  \n",
              "49     471.1930      99.9685  \n",
              "50     468.1150      99.9735  \n",
              "51     489.0245      99.8790  \n",
              "52     485.2935      99.8290  \n",
              "53     487.1880      99.9280  \n",
              "54     500.5790      99.8655  \n",
              "55     498.2650      99.8325  \n",
              "56     495.8780      99.7950  \n",
              "57     511.4180      99.8740  \n",
              "58     508.2105      99.8915  \n",
              "59     509.3530      99.7880  "
            ]
          },
          "execution_count": 26,
          "metadata": {},
          "output_type": "execute_result"
        }
      ],
      "source": [
        "import pandas as pd\n",
        "headers = [\"M\", \"D\", \"ef\", \"build time\", \"search time 100\", \n",
        "           \"search time 1000\", \"recall@100\", \"recall@1000\", \"recall@100*\"]\n",
        "d = {}\n",
        "for i, h in enumerate(headers):\n",
        "    d[headers[i]] = [r[i] for r in result]\n",
        "\n",
        "df = pd.DataFrame(d)\n",
        "# df.to_pickle('results.pkl')\n",
        "df"
      ]
    },
    {
      "cell_type": "markdown",
      "id": "e684e570-e1d1-4b33-8e71-e4097f106357",
      "metadata": {
        "id": "e684e570-e1d1-4b33-8e71-e4097f106357"
      },
      "source": [
        "Discuss, how parameters (using the table) affect perfromance?"
      ]
    },
    {
      "cell_type": "markdown",
      "id": "3fd3289e-d858-48d8-92d7-03fc4ebf9921",
      "metadata": {
        "id": "3fd3289e-d858-48d8-92d7-03fc4ebf9921"
      },
      "source": [
        "### * Load results (if needed)\n",
        "\n",
        "(NB: for some reason `pyplot` does not survive together with `nmslib` in Windows. So you may save we save and load)."
      ]
    },
    {
      "cell_type": "code",
      "execution_count": 27,
      "id": "d9285f67-0846-48e7-8507-757e9cd3795b",
      "metadata": {
        "id": "d9285f67-0846-48e7-8507-757e9cd3795b"
      },
      "outputs": [],
      "source": [
        "import pandas as pd\n",
        "headers = [\"M\", \"D\", \"ef\", \"build time\", \"search time 100\", \"search time 1000\", \"recall@100\", \"recall@1000\", \"recall@100*\"]\n",
        "DS = [2000, 5000, 10000, 20000, 30000]\n",
        "# M values\n",
        "MS = [8, 16, 32, 64]\n",
        "# ef values\n",
        "EFS = [100, 200, 400]\n",
        "# df = pd.read_pickle('results.pkl')"
      ]
    },
    {
      "cell_type": "markdown",
      "id": "ba914c8f-fb40-4371-88de-206378b3bd17",
      "metadata": {
        "id": "ba914c8f-fb40-4371-88de-206378b3bd17"
      },
      "source": [
        "## Displaying results\n",
        "\n",
        "Let us display them now!"
      ]
    },
    {
      "cell_type": "code",
      "execution_count": 28,
      "id": "c7c35637-6900-43ae-972e-18ee07a85da3",
      "metadata": {
        "colab": {
          "base_uri": "https://localhost:8080/",
          "height": 1000
        },
        "id": "c7c35637-6900-43ae-972e-18ee07a85da3",
        "outputId": "76bbb1bf-2450-4280-b2cd-f514b8b3e14b"
      },
      "outputs": [
        {
          "data": {
            "image/png": "[encoded data removed]",
            "text/plain": [
              "<Figure size 1080x2160 with 6 Axes>"
            ]
          },
          "metadata": {
            "needs_background": "light"
          },
          "output_type": "display_data"
        }
      ],
      "source": [
        "%matplotlib inline \n",
        "import matplotlib.pyplot as plt\n",
        "\n",
        "fig, ax = plt.subplots(len(headers) - 3, figsize=(15, 30))\n",
        "\n",
        "for j in range(len(MS)):\n",
        "    for k in range(3, len(headers)):\n",
        "        # print(MS[j], k)\n",
        "        subdata = df[(df['M'] == MS[j]) & (df['ef'] == EFS[0])]\n",
        "        ax[k-3].plot(subdata['D'], subdata[headers[k]], label=f\"M={MS[j]}\")\n",
        "        ax[k-3].set_title(f\"{headers[k]}\")\n",
        "        ax[k-3].legend()\n",
        "        \n",
        "plt.tight_layout()\n",
        "plt.show()"
      ]
    }
  ],
  "metadata": {
    "colab": {
      "provenance": []
    },
    "kernelspec": {
      "display_name": "ds_env",
      "language": "python",
      "name": "python3"
    },
    "language_info": {
      "codemirror_mode": {
        "name": "ipython",
        "version": 3
      },
      "file_extension": ".py",
      "mimetype": "text/x-python",
      "name": "python",
      "nbconvert_exporter": "python",
      "pygments_lexer": "ipython3",
      "version": "3.9.12"
    }
  },
  "nbformat": 4,
  "nbformat_minor": 5
}
