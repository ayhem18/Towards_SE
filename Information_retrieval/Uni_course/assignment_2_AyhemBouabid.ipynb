{
 "cells": [
  {
   "cell_type": "markdown",
   "metadata": {},
   "source": [
    "# 1. Measure and improve\n",
    "\n",
    "How do we know that search engine's quality improved (or at least haven't deteriorated) because of our changes?\n",
    "\n",
    "All we need is a way to ***evaluate*** our search engine. We will consider some of the popular evaluation techniques:\n",
    "\n",
    "1. Mean Average Precision\n",
    "2. 11-Point Interpolated Average\n",
    "3. Normalized Discounted Cumulative Gain (NDCG)\n",
    "4. pFound\n",
    "\n",
    "<!--We will apply them in the context of ranking with language models and will compare two ways of smoothing: additive and Jelinek-Mercer smoothing.\n",
    "-->\n",
    "\n",
    "It's best to go through the [book](https://nlp.stanford.edu/IR-book/pdf/irbookonlinereading.pdf) *chapter 8*, concretely, *8.4* to understand the key concepts of this lab. Here we will only present some excerpts from it."
   ]
  },
  {
   "cell_type": "markdown",
   "metadata": {},
   "source": [
    "## 1.1. [10] Mean Average Precision\n",
    "\n",
    "The most standard metric among the TREC community is *Mean Average Precision* *(MAP)*, which provides a single-figure measure of quality across recall levels. Among evaluation measures, MAP has been shown to have especially good discrimination and stability. For a single information need, Average Precision is the average of the precision value obtained for the set of top $k$ documents existing\n",
    "after each relevant document is retrieved, and this value is then averaged over information needs (queries). \n",
    "Assume we have a bucket $Q$ of queries $q_j\\in Q$.\n",
    "If the set of **relevant documents** for an information need (query) $q_j$ is {d<sub>1</sub>, . . . d<sub>m<sub>j</sub></sub>} and R<sub>jk</sub> is the set of ranked retrieval results from the top result until you get to document d<sub>k</sub>, then\n",
    "\n",
    "![](https://i.imgur.com/EGQMHVq.png)\n",
    "\n",
    "Implement this metric in the `mean_avg_precision` function.\n",
    "\n",
    "**NB** Don't make the name of [the metric confuse you](https://towardsdatascience.com/breaking-down-mean-average-precision-map-ae462f623a52). *Average Precision* is the term, which corresponds to the area under precision-recall curve. It's computation is tricky. We suggest to start with implementing [$AveP$](https://en.wikipedia.org/wiki/Evaluation_measures_(information_retrieval)#Average_precision)."
   ]
  },
  {
   "cell_type": "code",
   "execution_count": 19,
   "metadata": {},
   "outputs": [],
   "source": [
    "import numpy as np\n",
    "\n",
    "# this function will used across the notebook\n",
    "def is_relevant(document_id: int, q_relevance: list[int]) -> int:\n",
    "  \"\"\"Determines whether the document is relevant. \"\"\"\n",
    "  for qr in q_relevance:\n",
    "    if qr[0] == document_id:\n",
    "      return 1\n",
    "  return 0\n",
    "\n",
    "def avr_prec_per_query(query_result, query_relevance):\n",
    "  \"\"\"calculates the average precision for a single query\"\"\"\n",
    "\n",
    "  result = 0\n",
    "  num_relevant_docs = 0\n",
    "  for k in range(len(query_result)):\n",
    "    num_relevant_docs += is_relevant(query_result[k], query_relevance)\n",
    "    precision = num_relevant_docs / (k+1)\n",
    "    result += precision * is_relevant(query_result[k], query_relevance)\n",
    "  return result/num_relevant_docs if num_relevant_docs != 0 else 0\n",
    "\n",
    "def mean_avg_precision(search_results, relevance):\n",
    "  \"\"\"Calculate the mean average precision: The mean of average precision for each query\"\"\"\n",
    "  return np.mean([avr_prec_per_query(search_results[i], relevance[i + 1]) for i in range(len(search_results))])\n",
    "\n"
   ]
  },
  {
   "attachments": {},
   "cell_type": "markdown",
   "metadata": {},
   "source": [
    "### 1.1.1. Tests"
   ]
  },
  {
   "cell_type": "code",
   "execution_count": 20,
   "metadata": {},
   "outputs": [
    {
     "name": "stdout",
     "output_type": "stream",
     "text": [
      "map_test 0.6464285714285714\n"
     ]
    }
   ],
   "source": [
    "import numpy as np\n",
    "\n",
    "test_relevance = {1: [(9, 1), (1, 2), (8, 3)], 2: [(5, 1), (9, 2), (6, 3)], \n",
    "                  3: [(9, 1), (4, 2), (6, 3)], 4: [(10, 1), (4, 2), (7, 3)], \n",
    "                  5: [(4, 1), (2, 2), (8, 3)], 6: [(2, 1), (9, 2), (4, 3)], \n",
    "                  7: [(1, 1), (2, 2), (3, 3)], 8: [(3, 1), (2, 2), (6, 3)], \n",
    "                  9: [(1, 1), (4, 2), (3, 3)], 10: [(10, 1), (7, 2), (8, 3)]}\n",
    "test_results = [[4, 5, 3, 6, 1, 2, 8, 9, 10, 7], [7, 5, 6, 3, 1, 8, 9, 4, 2, 10], \n",
    "                [8, 3, 4, 5, 9, 6, 1, 10, 2, 7], [4, 5, 7, 3, 6, 10, 1, 9, 2, 8], \n",
    "                [4, 8, 3, 5, 6, 7, 2, 1, 10, 9], [9, 7, 6, 5, 2, 4, 10, 1, 3, 8], \n",
    "                [3, 1, 5, 2, 10, 6, 7, 9, 8, 4], [9, 2, 4, 10, 8, 3, 7, 6, 1, 5], \n",
    "                [3, 4, 6, 1, 5, 10, 7, 2, 8, 9], [8, 10, 4, 1, 3, 7, 5, 6, 9, 2]]\n",
    "\n",
    "\n",
    "map_test = mean_avg_precision(test_results, test_relevance)\n",
    "print(\"map_test\", map_test)\n",
    "assert np.isclose(map_test, 0.646, atol=1e-03)\n",
    "assert mean_avg_precision(test_results[:5], test_relevance) > mean_avg_precision(test_results[5:10], test_relevance)"
   ]
  },
  {
   "cell_type": "markdown",
   "metadata": {},
   "source": [
    "## 1.2. [15] 11-Point Interpolated Average\n",
    "\n",
    "In a ranked retrieval context, appropriate sets of retrieved documents are naturally given by the top k retrieved documents. For each such set, precision and recall values can be plotted to give a precision-recall curve, such as this one (blue line):\n",
    "\n",
    "![](https://i.imgur.com/QnvDLAJ.png)\n",
    "\n",
    "Precision-recall curves have a distinctive saw-tooth shape: if the *(k + 1)<sup>th</sup>* document retrieved is nonrelevant then recall is the same as for the top k documents, but precision has dropped. If it is relevant, then both precision and recall increase, and the curve jags up and to the right.\n",
    "\n",
    "It is often useful to remove these jiggles and the standard way to do this is with an *interpolated precision*: the interpolated precision *p<sub>interp</sub>* at a certain recall level *r* is defined as the highest precision found for any recall level *r′* ≥ *r*:\n",
    "\n",
    "![](https://i.imgur.com/GMl2rQw.png)\n",
    "\n",
    "The justification is that almost anyone would be prepared to look at a few more documents if it would increase the percentage of the viewed set that were relevant (that is, if the precision of the larger set is higher). Interpolated precision is shown by a red line in the figure above.\n",
    "\n",
    "Examining this information for a single query may be useful, but usually we are more interested in a composite metrics, which will score over all test queries. The traditional way of doing this is the *11-point interpolated average*. For each information need, the interpolated precision is measured at the 11 recall levels of 0.0, 0.1, 0.2, . . . , 1.0. Then we average interpolated precision over all queries in the test collection and plot, like here:\n",
    "\n",
    "![](https://i.imgur.com/6wDmtp2.png)\n",
    "\n",
    "\n",
    "Plotting a number of such graphs for different versions of search engine on the same plot helps to compare their performance.\n",
    "\n",
    "You need to incorporate this logic into `eleven_points_interpolated_avg` function. Break it down to subfuctions as it seems necessary to you."
   ]
  },
  {
   "cell_type": "code",
   "execution_count": 33,
   "metadata": {},
   "outputs": [],
   "source": [
    "import matplotlib.pyplot as plt\n",
    "\n",
    "\n",
    "def precision_points(query_result, query_relevance):\n",
    "  \"\"\"Return the precision and recall for the given query at each result position\"\"\"\n",
    "  result = []\n",
    "  recalls = []\n",
    "  num_relevant_docs = 0\n",
    "  for k in range(len(query_result)):\n",
    "    num_relevant_docs += is_relevant(query_result[k], query_relevance)\n",
    "    precision = num_relevant_docs / (k+1)\n",
    "    result += [precision * is_relevant(query_result[k], query_relevance)]\n",
    "    recalls += [num_relevant_docs/len(query_relevance)]\n",
    "  return result, recalls\n",
    "\n",
    "def eleven_points_interpolated_avg_query(query_results, query_relevance):\n",
    "  \"\"\"\n",
    "    Returns the 11-P interpolated average precision for a single query: a list of 11 elements\n",
    "  \"\"\"\n",
    "  precision, recall = precision_points(query_results, query_relevance)\n",
    "  result = []\n",
    "  current_recall = 0\n",
    "  current_index  = 0\n",
    "\n",
    "  for i in range(len(precision)):\n",
    "    while recall[i] - current_recall > 0.1:\n",
    "      interpolated_precision = max(precision[current_index:])\n",
    "      result.append(interpolated_precision)\n",
    "      current_recall += 0.1\n",
    "      current_index = i\n",
    "  while len(result) < 11:\n",
    "    result.append(max(precision[current_index:]))\n",
    "  return result\n",
    "\n",
    "\n",
    "def eleven_points_interpolated_avg(search_results, relevance, plot=True):\n",
    "  \"\"\"Returns the 11-P interpolated average precision over all queries\n",
    "  :return: List of size 11\n",
    "  \"\"\"\n",
    "  query_results = [eleven_points_interpolated_avg_query(search_results[i],relevance[i + 1]) for i in range(len(search_results))]\n",
    "  result =  [np.mean([query_results[i][k] for i in range(len(search_results))]) for k in range(11)]\n",
    "  print(result)\n",
    "  if plot:\n",
    "    plt.plot(np.linspace(0, 1, 11), result)\n",
    "    plt.scatter(np.linspace(0, 1, 11), result)\n",
    "    # plt.yticks(list(np.linspace(0, 1, 11)))\n",
    "  return result"
   ]
  },
  {
   "cell_type": "markdown",
   "metadata": {},
   "source": [
    "### 1.2.1.Tests"
   ]
  },
  {
   "cell_type": "code",
   "execution_count": 34,
   "metadata": {},
   "outputs": [
    {
     "name": "stdout",
     "output_type": "stream",
     "text": [
      "[0.8041666666666666, 0.8041666666666666, 0.8041666666666666, 0.8041666666666666, 0.7083333333333333, 0.7083333333333333, 0.7083333333333333, 0.5107142857142858, 0.5107142857142858, 0.5107142857142858, 0.5107142857142858]\n"
     ]
    },
    {
     "data": {
      "image/png": "[encoded data removed]",
      "text/plain": [
       "<Figure size 640x480 with 1 Axes>"
      ]
     },
     "metadata": {},
     "output_type": "display_data"
    }
   ],
   "source": [
    "eleven_test = eleven_points_interpolated_avg(test_results, test_relevance, plot=True)\n",
    "assert all(eleven_test[k] >= eleven_test[k+1] for k in range(len(eleven_test)-1))"
   ]
  },
  {
   "cell_type": "markdown",
   "metadata": {},
   "source": [
    "## 1.3. [10] Normalized Discounted Cumulative Gain\n",
    "\n",
    "NDCG metric is designed for situations of non-binary notions of relevance. It is evaluated over some number $k$ of top search results (in our case we will evaluate over the whole dataset, since it is small). \n",
    "\n",
    "For a set of queries $Q$, let $R(j,d)$ be the relevance score assessors gave to document $d$ for query $j$. Then,\n",
    "\n",
    "![](https://i.imgur.com/LLogCYa.png)\n",
    "\n",
    "where $Z_{kj}$ is a normalization factor calculated to make it so that a perfect ranking’s NDCG at $k$ for query $j$ is 1. In other words, we divide calculated DCG score by ideal DCG score. \n",
    "\n",
    "Implement this metric in `NDCG` function."
   ]
  },
  {
   "cell_type": "code",
   "execution_count": 23,
   "metadata": {},
   "outputs": [],
   "source": [
    "import math \n",
    "import math \n",
    "\n",
    "def relevance_score(document_id, query_relevance):\n",
    "    \"\"\"Returns the relevance score of the document\"\"\"\n",
    "    for i in query_relevance:\n",
    "      if i[0] == document_id:\n",
    "        return 5 - i[1]\n",
    "    return 0\n",
    "\n",
    "def DCG_query(query_results, query_relevance):\n",
    "    \"\"\"Returns the DCG score of one single query \"\"\"\n",
    "    return np.sum([(2**relevance_score(query_results[k], query_relevance) -1) / math.log2(2+k) for k in range(len(query_results))])\n",
    "\n",
    "def IDCG_query(query_results, query_relevance):\n",
    "    \"\"\"Returns the IDCG for one query\"\"\"\n",
    "    return DCG_query(\n",
    "        sorted(query_results, key=lambda x: relevance_score(x, query_relevance), reverse=True),\n",
    "        query_relevance\n",
    "    )\n",
    "\n",
    "def NDCG_query(query_results, query_relevance):\n",
    "    \"\"\"returns the NDCG per query\"\"\"\n",
    "    dcg = DCG_query(query_results, query_relevance)\n",
    "    idcg = IDCG_query(query_results, query_relevance)\n",
    "    return dcg / idcg if idcg != 0 else 0\n",
    "\n",
    "def NDCG(search_results, relevance):\n",
    "    \"\"\"Returns the NDCG mean over all queries\"\"\"\n",
    "    return np.mean([NDCG_query(search_results[i], relevance[i + 1]) for i in range(len(search_results))])\n"
   ]
  },
  {
   "cell_type": "markdown",
   "metadata": {},
   "source": [
    "### 1.3.1. Tests"
   ]
  },
  {
   "cell_type": "code",
   "execution_count": 24,
   "metadata": {},
   "outputs": [
    {
     "name": "stdout",
     "output_type": "stream",
     "text": [
      "ndcg_test 0.6409675295633275\n"
     ]
    }
   ],
   "source": [
    "ndcg_test = NDCG(test_results, test_relevance)\n",
    "print(\"ndcg_test\", ndcg_test)\n",
    "assert np.isclose(ndcg_test, 0.640, atol=1e-03)\n",
    "assert NDCG(test_results[:5], test_relevance) < NDCG(test_results[5:10], test_relevance)"
   ]
  },
  {
   "cell_type": "markdown",
   "metadata": {},
   "source": [
    "## 1.4. [15] pFound ## \n",
    "**pFound** -- ranking metric invented in [Yandex](http://romip.ru/romip2009/15_yandex.pdf). This metric models user behaviour when looking at the search engine representation page (SERP). Metric assumes a user is inspecting a list from the top to the bottom. There are 2 global parameters, controlling behaviour:\n",
    "- `pBreak` -- how probable, that the user will become tired and just quit at this position (`0.15` by default).\n",
    "- `pRel` -- how probable the user will click the document if this document is relevant (`0.4` by default for a relevan document, `0` is given to irrelevant).\n",
    "\n",
    "Then, to compute pFound for the exact page we do:\n",
    "\n",
    "$pLook_i = pLook_{i-1}*(1 - pBreak)*(1 - pRel_{i-1})$\n",
    "\n",
    "$pFound = \\sum_{i=1}^{N}pLook_i*pRel_i$\n",
    "\n",
    "Implement `pFound` below."
   ]
  },
  {
   "cell_type": "code",
   "execution_count": 25,
   "metadata": {},
   "outputs": [],
   "source": [
    "\n",
    "# Constants for further use \n",
    "PBREAK = 0.15\n",
    "PREL = 0.4\n",
    "\n",
    "def pRel(document_id, query_relevance):\n",
    "    \"Calculate the pRel value of the document\"\n",
    "    return PREL * is_relevant(document_id, query_relevance)\n",
    "\n",
    "def pFound_query(query_result, query_relevance):\n",
    "    \"\"\"Calculate the pFound value for a single query \"\"\"\n",
    "    \"\"\"Returns the pFound value for one query\"\"\"\n",
    "    result = 0\n",
    "    pLook = 1\n",
    "    last_pRel = 0\n",
    "    for qr in query_result:\n",
    "      last_pRel =  pRel(qr, query_relevance)\n",
    "      result += pLook * last_pRel\n",
    "      pLook = pLook * (1 - PBREAK) * (1 - last_pRel)\n",
    "    return result\n",
    "\n",
    "def pFound(search_results, relevance):\n",
    "    \"\"\"Returns the mean pFound over all given queries\"\"\"\n",
    "    return np.mean([pFound_query(search_results[i], relevance[i + 1]) for i in range(len(search_results))])"
   ]
  },
  {
   "cell_type": "markdown",
   "metadata": {},
   "source": [
    "### 1.4.1. Tests"
   ]
  },
  {
   "cell_type": "code",
   "execution_count": 26,
   "metadata": {},
   "outputs": [
    {
     "name": "stdout",
     "output_type": "stream",
     "text": [
      "pFound 0.5821558180674999\n"
     ]
    }
   ],
   "source": [
    "pFound_test = pFound(test_results, test_relevance)\n",
    "print(\"pFound\", pFound_test)\n",
    "assert np.isclose(pFound_test, 0.582, atol=1e-03)\n",
    "assert pFound(test_results[:5], test_relevance) > pFound(test_results[5:10], test_relevance)"
   ]
  }
 ],
 "metadata": {
  "kernelspec": {
   "display_name": "Python 3 (ipykernel)",
   "language": "python",
   "name": "python3"
  },
  "language_info": {
   "codemirror_mode": {
    "name": "ipython",
    "version": 3
   },
   "file_extension": ".py",
   "mimetype": "text/x-python",
   "name": "python",
   "nbconvert_exporter": "python",
   "pygments_lexer": "ipython3",
   "version": "3.9.12"
  }
 },
 "nbformat": 4,
 "nbformat_minor": 4
}
