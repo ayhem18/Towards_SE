{
 "cells": [
  {
   "cell_type": "markdown",
   "source": [
    "\n",
    "# Overview\n",
    "This notebook is to take some notes and ideas that would like to keep in mind when it comes to Dynamic Programming.\n",
    "## Fibonacci Sequence\n",
    "Let's start with a very simple way to evaluate both time and space complexity for the recursive version of the function:\n",
    "1. Time complexity: We have T(n) = T(n - 1) + T(n - 2). Well it is important to picture the tree. If we have T_1(n) = 2 * T(n - 1). Then, we have a tree of depth $n$ generated for every call of $n$. Then $T(n) = O(2 ^ n)$. Assuming, we have $T_2(n) = 2 * T(n - 2)$, then we have a tree of depth $\\frac{n}{2}$, evaluating the time complexity to $O(2^{\\frac{n}{2}}) = O(2 ^ n)$. Using the simple fact that $T_1(n) >= T(n) >= T_2(n)$ reveals the answer\n",
    "2. Space complexity: Again back to the tree: The function $f(n)$ keeps only  $f(n - 1)$, $f(n - 2)$ ... $f(1)$ in the call stack: Think about it in terms of path from the caller to the base case: Space complexity in this case is $O(n)$\n",
    "\n",
    "ALL THE CODE IN IS ON DP_LEARN.py"
   ],
   "metadata": {
    "collapsed": false
   }
  },
  {
   "cell_type": "markdown",
   "source": [
    "Let's consider the canSum problem and analyze its time and space complexity. The idea here is find the depth of the tree (any recursive problem can be modeled as a tree)\n",
    "as well as the branching factor. The first step: is the depth, The longest path is $target / min(values)$ where values is the values. This is linear in terms of $m$. As for the branching factor, it is the size of the array which can be denoted by $n$. Thus, the time complexity for the recursive version of the solution is $O(n ^ m)$"
   ],
   "metadata": {
    "collapsed": false
   }
  },
  {
   "cell_type": "code",
   "execution_count": null,
   "outputs": [],
   "source": [],
   "metadata": {
    "collapsed": false
   }
  }
 ],
 "metadata": {
  "kernelspec": {
   "display_name": "Python 3",
   "language": "python",
   "name": "python3"
  },
  "language_info": {
   "codemirror_mode": {
    "name": "ipython",
    "version": 2
   },
   "file_extension": ".py",
   "mimetype": "text/x-python",
   "name": "python",
   "nbconvert_exporter": "python",
   "pygments_lexer": "ipython2",
   "version": "2.7.6"
  }
 },
 "nbformat": 4,
 "nbformat_minor": 0
}
