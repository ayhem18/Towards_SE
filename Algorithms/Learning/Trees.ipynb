{
 "cells": [
  {
   "attachments": {},
   "cell_type": "markdown",
   "metadata": {},
   "source": [
    "# Trees\n",
    "This is a quick, brief course on Trees from a techincal interviews' perspective. Here is the [link](https://www.youtube.com/watch?v=fAAZixBzIAI)  \n",
    "going through the terminology of trees. So from a visual perspective, a circle in the tree is a **Node**, the relation between different nodes are referred to as **edges**. The main element is the  **root**. A tree with no child is a **leaf**.  "
   ]
  },
  {
   "cell_type": "code",
   "execution_count": 109,
   "metadata": {},
   "outputs": [],
   "source": [
    "# even though I don't prefer using Python to build data structures from scratch, for the sake of efficienty, I will do this\n",
    "\n",
    "# let's consider the node class\n",
    "class Node:\n",
    "    pass\n",
    "\n",
    "class Node:\n",
    "    def __init__(self, data, left: Node=None, right: Node=None) -> None:\n",
    "        self.data = data\n",
    "        # the children default to None\n",
    "        self.left = left\n",
    "        self.right = right\n",
    "        \n"
   ]
  },
  {
   "cell_type": "code",
   "execution_count": 110,
   "metadata": {},
   "outputs": [],
   "source": [
    "# let's see how to implement depth first traversal\n",
    "def _depth_first_traversal_recursion(root: Node) -> list:\n",
    "    # check if the root is not None\n",
    "    if root is None:\n",
    "        return []\n",
    "\n",
    "    # define the results' container\n",
    "    results = [root.data] # the latter should contain the current value\n",
    "\n",
    "    # get the results of the childer starting from the left child\n",
    "    if root.left:\n",
    "        results.extend(_depth_first_traversal_recursion(root.left))\n",
    "\n",
    "    if root.right:\n",
    "        results.extend(_depth_first_traversal_recursion(root.right))\n",
    "\n",
    "    # don't forget to return the results\n",
    "    return results\n",
    "\n",
    "from collections import deque\n",
    "# we can't talk about depth first without the STACK Data Structure\n",
    "def _depth_first_traversal_stack(root: None) -> list:\n",
    "    if root is None:\n",
    "        return []\n",
    "    # define the results's container\n",
    "    results = []\n",
    "    # define the stack\n",
    "    to_do = deque()\n",
    "    # append the root\n",
    "    to_do.append(root)\n",
    "    while len(to_do) != 0:\n",
    "        top_node = to_do.pop()\n",
    "        results.append(top_node.data)\n",
    "        if top_node.right: \n",
    "            to_do.append(top_node.right)\n",
    "        if top_node.left:\n",
    "            to_do.append(top_node.left)\n",
    "    \n",
    "    return results\n"
   ]
  },
  {
   "cell_type": "code",
   "execution_count": null,
   "metadata": {},
   "outputs": [],
   "source": []
  },
  {
   "cell_type": "code",
   "execution_count": 111,
   "metadata": {},
   "outputs": [],
   "source": [
    "def breadth_first_traversal(root: None):\n",
    "    if root is None:\n",
    "        return []\n",
    "    result = []\n",
    "\n",
    "    to_do = deque()\n",
    "    to_do.append(root)\n",
    "    # the to_do DS will save all the nodes that were not yet processed.\n",
    "    while len(to_do) != 0:\n",
    "        first_element = to_do.popleft()\n",
    "        result.append(first_element.data)\n",
    "        # add the left child first, then the right one\n",
    "        if first_element.left:\n",
    "            to_do.append(first_element.left)\n",
    "    \n",
    "        if first_element.right:\n",
    "            to_do.append(first_element.right)\n",
    "    \n",
    "    return result\n"
   ]
  },
  {
   "cell_type": "code",
   "execution_count": 112,
   "metadata": {},
   "outputs": [],
   "source": [
    "def include(root: Node, target: int):\n",
    "    # it is recommended to use breadth-first traversal\n",
    "    if root is None or not isinstance(root.data, type(target)) :\n",
    "        return False\n",
    "    \n",
    "    queue = deque()\n",
    "    # insert the first value in the queue\n",
    "    queue.append(root)\n",
    "    while len(queue) != 0:\n",
    "        last_node = queue.popleft()\n",
    "        if last_node.data == target:\n",
    "            return True\n",
    "        # add the children of the extracted node\n",
    "        if last_node.left:\n",
    "            queue.append(last_node.left)\n",
    "        if last_node.right:\n",
    "            queue.append(last_node.right)\n",
    "    \n",
    "    # if the entire tree was traversed, then the target value is not present in the tree\n",
    "    return False\n",
    "\n",
    "# let's try to solve it recursively\n",
    "\n",
    "def include_recursive(root: Node, target: int):\n",
    "    # it is recommended to use breadth-first traversal\n",
    "    if root is None or not isinstance(root.data, type(target)) :\n",
    "        return False\n",
    "    \n",
    "    # first check if the target is equal to the value in the root node\n",
    "    if root.data == target:\n",
    "        return True\n",
    "    # it is totally ok to call the functions on root.right / root.left as there is a base case taking into consideration the None values\n",
    "    return include_recursive(root.right, target) or include_recursive(root.left, target)\n"
   ]
  },
  {
   "cell_type": "code",
   "execution_count": 113,
   "metadata": {},
   "outputs": [],
   "source": [
    "# time to test the code a bit\n",
    "r1 = Node(1)\n",
    "r2 = Node(2)\n",
    "r3 = Node(3)\n",
    "r4 = Node(4)\n",
    "r5 = Node(5)\n",
    "r6 = Node(6)\n",
    "r7 = Node(7)\n",
    "r8 = Node(8)\n",
    "r9 = Node(9)\n",
    "r10 = Node(10)\n",
    "r11 = Node(11)\n",
    "r12 = Node(12)\n",
    "r13 = Node(13)\n",
    "\n",
    "# set the children of 1\n",
    "r1.left = r2\n",
    "r1.right = r3\n",
    "\n",
    "# set the children of 2\n",
    "r2.left = r4\n",
    "r2.right = r7\n",
    "\n",
    "# set the children of 3\n",
    "r3.left = r6\n",
    "r3.right = r5\n",
    "\n",
    "# set the children of 4\n",
    "r4.left = r10\n",
    "\n",
    "# set the childer of 7\n",
    "r7.left = r8\n",
    "r7.right = r9\n",
    "\n",
    "# set  the children of 6\n",
    "r6.right = r11\n",
    "r5.right = r12\n",
    "# set the children of 5\n",
    "r12.right = r13\n",
    "\n",
    "# the tree will be as follows:\n",
    "#                              1\n",
    "#                           /      \\\n",
    "#                          2        3\n",
    "#                         /\\       / \\ \n",
    "#                        4  7     6   5\n",
    "#                       /  / \\    \\   \\ \n",
    "#                      10 8   9    11  12\n",
    "#                                       \\\n",
    "#                                        13\n",
    "\n",
    "\n",
    "r25 = Node(25)\n",
    "r8.left = r25"
   ]
  },
  {
   "cell_type": "code",
   "execution_count": 114,
   "metadata": {},
   "outputs": [
    {
     "name": "stdout",
     "output_type": "stream",
     "text": [
      "[1, 2, 4, 10, 7, 8, 25, 9, 3, 6, 11, 5, 12, 13]\n",
      "[1, 2, 4, 10, 7, 8, 25, 9, 3, 6, 11, 5, 12, 13]\n",
      "[1, 2, 3, 4, 7, 6, 5, 10, 8, 9, 11, 12, 25, 13]\n"
     ]
    }
   ],
   "source": [
    "# let's see first the depth first search\n",
    "print(_depth_first_traversal_recursion(r1))\n",
    "print(_depth_first_traversal_stack(r1))\n",
    "print(breadth_first_traversal(r1))"
   ]
  },
  {
   "attachments": {},
   "cell_type": "markdown",
   "metadata": {},
   "source": [
    "seems like our functions work as expected !!! GREAT!! "
   ]
  },
  {
   "cell_type": "code",
   "execution_count": 118,
   "metadata": {},
   "outputs": [],
   "source": [
    "# let's add some small modification of the problem\n",
    "def tree_sum(root: Node):\n",
    "    if root is None:\n",
    "        return 0\n",
    "    assert isinstance(root.data, int)\n",
    "    return root.data + tree_sum(root.right) + tree_sum(root.left)\n",
    "\n",
    "# print(tree_sum(r1))\n",
    "# r1.data += 10\n",
    "# print(tree_sum(r1))\n",
    "# r12.right = None\n",
    "# print(tree_sum(r1))"
   ]
  },
  {
   "cell_type": "code",
   "execution_count": 119,
   "metadata": {},
   "outputs": [],
   "source": [
    "def min_tree(root: Node):\n",
    "    # make sure the tree passed is not empty\n",
    "    assert root is not None and isinstance(root.data, int)\n",
    "    if root.left is None and root.right is None:\n",
    "        return root.data\n",
    "    elif root.left and root.right is None:\n",
    "        return min(root.data, root.left.data)\n",
    "    elif root.right and root.left is None:\n",
    "        return min(root.data, root.right.data)\n",
    "    return min([root.data, min_tree(root.right), min_tree(root.left)])\n",
    "\n",
    "assert min_tree(r1) == 1"
   ]
  },
  {
   "cell_type": "code",
   "execution_count": 121,
   "metadata": {},
   "outputs": [
    {
     "name": "stdout",
     "output_type": "stream",
     "text": [
      "[1, 2, 3, 4, 7, 6, 5, 10, 8, 9, 11, 12, 25, 13]\n",
      "43 [1, 2, 7, 8, 25]\n"
     ]
    }
   ],
   "source": [
    "# let's try to find the path: (from root to a leaf) with the largest sum\n",
    "\n",
    "def max_leaf(root: None):\n",
    "    assert root is not None\n",
    "    # the first base case is the case of a leaf node\n",
    "\n",
    "    res = [root.data]\n",
    "    sub_tree_path = None\n",
    "    sub_tree_sum = 0\n",
    "    if root.right is None and root.left is None:\n",
    "        sub_tree_path = []\n",
    "        \n",
    "    elif root.left and root.right is None:\n",
    "        sub_tree_sum, sub_tree_path = max_leaf(root.left)\n",
    "        \n",
    "    elif root.right and root.left is None:\n",
    "        sub_tree_sum, sub_tree_path = max_leaf(root.right)\n",
    "    \n",
    "    else:\n",
    "        left_path_sum, left_path = max_leaf(root.left)\n",
    "        right_path_sum, right_path = max_leaf(root.right)\n",
    "\n",
    "        if left_path_sum > right_path_sum:\n",
    "            sub_tree_sum = left_path_sum\n",
    "            sub_tree_path = left_path\n",
    "        else:\n",
    "            sub_tree_sum = right_path_sum\n",
    "            sub_tree_path = right_path    \n",
    "\n",
    "    res.extend(sub_tree_path)\n",
    "    return (root.data + sub_tree_sum, res)\n",
    "\n",
    "print(breadth_first_traversal(r1))\n",
    "\n",
    "max_sum, max_path = max_leaf(r1)\n",
    "print(max_sum, max_path)"
   ]
  },
  {
   "cell_type": "code",
   "execution_count": null,
   "metadata": {},
   "outputs": [],
   "source": []
  },
  {
   "cell_type": "code",
   "execution_count": null,
   "metadata": {},
   "outputs": [],
   "source": []
  }
 ],
 "metadata": {
  "kernelspec": {
   "display_name": "se_env",
   "language": "python",
   "name": "python3"
  },
  "language_info": {
   "codemirror_mode": {
    "name": "ipython",
    "version": 3
   },
   "file_extension": ".py",
   "mimetype": "text/x-python",
   "name": "python",
   "nbconvert_exporter": "python",
   "pygments_lexer": "ipython3",
   "version": "3.9.12"
  },
  "orig_nbformat": 4
 },
 "nbformat": 4,
 "nbformat_minor": 2
}
