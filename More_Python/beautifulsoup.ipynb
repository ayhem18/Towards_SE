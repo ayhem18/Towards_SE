{
 "cells": [
  {
   "attachments": {},
   "cell_type": "markdown",
   "metadata": {},
   "source": [
    "These are my notes from the [Beautiful Soup documentation](https://www.crummy.com/software/BeautifulSoup/bs4/doc/) on web scraping with requests and Beautiful soup.\n"
   ]
  },
  {
   "cell_type": "code",
   "execution_count": 7,
   "metadata": {},
   "outputs": [],
   "source": [
    "URL = \"https://realpython.github.io/fake-jobs/\" # the URL to work with accross the tutorial\n",
    "import requests \n",
    "# let's first get the page using the requests package\n",
    "page = requests.get(URL, allow_redirects=True).text\n",
    "\n",
    "from bs4 import BeautifulSoup as bs\n",
    "# let's create the soup object\n",
    "soup= bs(page, 'html.parser')\n",
    "# print(soup.prettify()) this will print a formatted version of the HTML document"
   ]
  },
  {
   "cell_type": "code",
   "execution_count": 13,
   "metadata": {},
   "outputs": [
    {
     "name": "stdout",
     "output_type": "stream",
     "text": [
      "<title>Fake Python</title>\n",
      "<class 'bs4.element.Tag'>\n",
      "head\n",
      "<p class=\"subtitle is-3\">\n",
      "        Fake Jobs for Your Web Scraping Journey\n",
      "      </p>\n",
      "<a class=\"card-footer-item\" href=\"https://www.realpython.com\" target=\"_blank\">Learn</a>\n"
     ]
    }
   ],
   "source": [
    "# let's consider the following ways to explore the site (with the given URL)\n",
    "print(soup.title)\n",
    "print(type(soup.title))\n",
    "\n",
    "print(soup.title.parent.name)\n",
    "\n",
    "print(soup.p) # so calling soup.p will return the first occurence of the called tag in the document \n",
    "\n",
    "# let's verify the hypothesis a bit further \n",
    "print(soup.a) # once again the first occurence of an element with "
   ]
  },
  {
   "cell_type": "code",
   "execution_count": 15,
   "metadata": {},
   "outputs": [
    {
     "name": "stdout",
     "output_type": "stream",
     "text": [
      "p\n",
      "{'class': ['subtitle', 'is-3']}\n",
      "\n",
      "        Fake Jobs for Your Web Scraping Journey\n",
      "      \n"
     ]
    }
   ],
   "source": [
    "# soup is mainly a datastructure with a large number of tag elements. The main properties of a tag element object are: its name and its attributes\n",
    "\n",
    "first_p = soup.p\n",
    "print(first_p.name)\n",
    "print(first_p.attrs)\n",
    "# a tag can be associated with several classes at a time\n",
    "# the attributes represents a dictionary that can be searched easily knowing the elements' names\n"
   ]
  },
  {
   "cell_type": "code",
   "execution_count": 17,
   "metadata": {},
   "outputs": [
    {
     "name": "stdout",
     "output_type": "stream",
     "text": [
      "Fake Jobs for Your Web Scraping Journey\n"
     ]
    }
   ],
   "source": [
    "print(first_p.string.strip())\n"
   ]
  }
 ],
 "metadata": {
  "kernelspec": {
   "display_name": "Python 3.9.12 ('se_env')",
   "language": "python",
   "name": "python3"
  },
  "language_info": {
   "codemirror_mode": {
    "name": "ipython",
    "version": 3
   },
   "file_extension": ".py",
   "mimetype": "text/x-python",
   "name": "python",
   "nbconvert_exporter": "python",
   "pygments_lexer": "ipython3",
   "version": "3.9.12"
  },
  "orig_nbformat": 4,
  "vscode": {
   "interpreter": {
    "hash": "87916a9df29343f518d363a6149a1dfa14832b884faad311882187c1f88054e8"
   }
  }
 },
 "nbformat": 4,
 "nbformat_minor": 2
}
